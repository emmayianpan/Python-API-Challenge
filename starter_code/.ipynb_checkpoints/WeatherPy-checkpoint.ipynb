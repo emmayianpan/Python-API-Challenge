{
 "cells": [
  {
   "cell_type": "markdown",
   "metadata": {},
   "source": [
    "# WeatherPy\n",
    "----\n",
    "\n",
    "#### Note\n",
    "* Instructions have been included for each segment. You do not have to follow them exactly, but they are included to help you think through the steps."
   ]
  },
  {
   "cell_type": "code",
   "execution_count": 1,
   "metadata": {
    "scrolled": true
   },
   "outputs": [],
   "source": [
    "# Dependencies and Setup\n",
    "import matplotlib.pyplot as plt\n",
    "import pandas as pd\n",
    "import numpy as np\n",
    "import requests\n",
    "import time\n",
    "from scipy.stats import linregress\n",
    "from pprint import pprint \n",
    "\n",
    "# Import API key\n",
    "from api_keys import weather_api_key\n",
    "\n",
    "# Incorporated citipy to determine city based on latitude and longitude\n",
    "from citipy import citipy\n",
    "\n",
    "# Output File (CSV)\n",
    "output_data_file = \"output_data/cities.csv\"\n",
    "\n",
    "# Range of latitudes and longitudes\n",
    "lat_range = (-90, 90)\n",
    "lng_range = (-180, 180)"
   ]
  },
  {
   "cell_type": "markdown",
   "metadata": {},
   "source": [
    "## Generate Cities List"
   ]
  },
  {
   "cell_type": "code",
   "execution_count": 2,
   "metadata": {},
   "outputs": [
    {
     "data": {
      "text/plain": [
       "633"
      ]
     },
     "execution_count": 2,
     "metadata": {},
     "output_type": "execute_result"
    }
   ],
   "source": [
    "# List for holding lat_lngs and cities\n",
    "lat_lngs = []\n",
    "cities = []\n",
    "\n",
    "# Create a set of random lat and lng combinations\n",
    "lats = np.random.uniform(lat_range[0], lat_range[1], size=1500)\n",
    "lngs = np.random.uniform(lng_range[0], lng_range[1], size=1500)\n",
    "lat_lngs = zip(lats, lngs)\n",
    "\n",
    "# Identify nearest city for each lat, lng combination\n",
    "for lat_lng in lat_lngs:\n",
    "    city = citipy.nearest_city(lat_lng[0], lat_lng[1]).city_name\n",
    "    \n",
    "    # If the city is unique, then add it to a our cities list\n",
    "    if city not in cities:\n",
    "        cities.append(city)\n",
    "\n",
    "# Print the city count to confirm sufficient count\n",
    "len(cities)"
   ]
  },
  {
   "cell_type": "code",
   "execution_count": 3,
   "metadata": {
    "collapsed": true
   },
   "outputs": [
    {
     "name": "stdout",
     "output_type": "stream",
     "text": [
      "['vaitupu', 'kemin', 'winsum', 'tiksi', 'ruatoria', 'fairbanks', 'hasaki', 'punta arenas', 'flin flon', 'kavaratti', 'talnakh', 'fortuna', 'puerto ayora', 'manyana', 'kavieng', 'svetlogorsk', 'nemuro', 'vaini', 'tazovskiy', 'belushya guba', 'avera', 'mataura', 'pizarro', 'hobart', 'jamestown', 'bereznik', 'slantsy', 'touros', 'butaritari', 'rungata', 'coromandel', 'lompoc', 'griffith', 'pangody', 'vila', 'nizhneyansk', 'cape town', 'burica', 'port-gentil', 'asau', 'chokurdakh', 'egvekinot', 'hilo', 'santa marta', 'port alfred', 'rikitea', 'oistins', 'new norfolk', 'tual', 'chuy', 'ushuaia', 'nikolskoye', 'manzhouli', 'albany', 'aklavik', 'thompson', 'port moresby', 'mar del plata', 'taolanaro', 'lebu', 'carnarvon', 'shache', 'lavrentiya', 'ak-dovurak', 'ngukurr', 'ye', 'san vicente', 'mendi', 'smithers', 'norman wells', 'cristalina', 'cockburn town', 'isangel', 'miri', 'san andres sajcabaja', 'longyearbyen', 'ancud', 'yenagoa', 'hermanus', 'yanam', 'cody', 'ayan', 'pisco', 'sangar', 'amahai', 'solovetskiy', 'russell', 'chiredzi', 'vostok', 'moron', 'clyde river', 'batemans bay', 'santa maria', 'laela', 'saskylakh', 'umba', 'sierre', 'cobija', 'deoli', 'san cristobal', 'bluff', 'alta gracia', 'taga', 'tasiilaq', 'busselton', 'peniche', 'dikson', 'manavgat', 'khatanga', 'barentsburg', 'arraial do cabo', 'kahului', 'tsienyane', 'bilibino', 'keti bandar', 'jadu', 'sitka', 'yanchukan', 'yerbogachen', 'avarua', 'samusu', 'harper', 'jalu', 'sentyabrskiy', 'tevaitoa', 'alta floresta', 'mezen', 'illoqqortoormiut', 'virginia beach', 'omsukchan', 'georgetown', 'sayyan', 'angra', 'torbay', 'severo-kurilsk', 'tuktoyaktuk', 'nouadhibou', 'husavik', 'hvammstangi', 'pemangkat', 'bethel', 'doka', 'turochak', 'muisne', 'la libertad', 'saint-philippe', 'tarata', 'pangnirtung', 'pitsunda', 'cayenne', 'puerto santander', 'eydhafushi', 'east london', 'karasjok', 'yellowknife', 'tromso', 'kodiak', 'barrow', 'souillac', 'odweyne', 'traiguen', 'viedma', 'bengkulu', 'hurghada', 'taltal', 'banjar', 'esperance', 'marawi', 'qaanaaq', 'estelle', 'menomonie', 'naryan-mar', 'alvand', 'zhezkazgan', 'worcester', 'havelock', 'suhbaatar', 'longlac', 'padang', 'ponta do sol', 'omboue', 'narok', 'kalmunai', 'ningbo', 'severobaykalsk', 'kaitangata', 'katha', 'syracuse', 'bredasdorp', 'portland', 'port elizabeth', 'two rivers', 'benicarlo', 'alofi', 'bereda', 'linguere', 'broadstairs', 'una', 'beloha', 'hithadhoo', 'bambous virieux', 'tarancon', 'port macquarie', 'mackenzie', 'saint anthony', 'upernavik', 'yuncheng', 'saint george', 'turayf', 'przhevalskoye', 'cherskiy', 'davidson', 'kieta', 'metro', 'santiago del estero', 'polyarnyy', 'linxia', 'port lincoln', 'havre-saint-pierre', 'castro', 'le port', 'pevek', 'kailua', 'codrington', 'sisimiut', 'guerrero negro', 'atherton', 'semey', 'amderma', 'grand gaube', 'mount gambier', 'dawei', 'san lazaro', 'coihaique', 'trairi', 'shenjiamen', 'kapaa', 'ribeira grande', 'naspur', 'hamilton', 'saleaula', 'hit', 'gat', 'bathsheba', 'lake city', 'dingle', 'rocha', 'nishihara', 'dalton', 'sorland', 'larsnes', 'ostrovnoy', 'baykit', 'jabinyanah', 'micoud', 'nueva loja', 'isla mujeres', 'atuona', 'dunedin', 'bani walid', 'nuuk', 'nanortalik', 'mahajanga', 'leningradskiy', 'ndele', 'tarko-sale', 'kerki', 'klaksvik', 'namibe', 'nouakchott', 'mahebourg', 'half moon bay', 'golden', 'praia da vitoria', 'hofn', 'darlawn', 'vila franca do campo', 'paratinga', 'laguna', 'marsabit', 'pacific grove', 'askiz', 'mecca', 'constitucion', 'provideniya', 'aldama', 'imbituba', 'narsaq', 'cidreira', 'kuusamo', 'cabo san lucas', 'nizwa', 'belyy gorodok', 'ottawa', 'erenhot', 'brignoles', 'tsihombe', 'saint-augustin', 'karmana', 'yatou', 'mys shmidta', 'ryotsu', 'quimper', 'haines junction', 'san carlos de bariloche', 'angoche', 'xichang', 'rajgarh', 'constantine', 'shingu', 'tetouan', 'birao', 'peruibe', 'gamba', 'lumeje', 'vardo', 'ayr', 'himatangi', 'grand river south east', 'necochea', 'lingao', 'cabra', 'daru', 'pinotepa nacional', 'lasa', 'vestmannaeyjar', 'kita', 'emerald', 'gatton', 'port hardy', 'attawapiskat', 'senanga', 'iqaluit', 'hashtrud', 'monte gordo', 'aykhal', 'waipawa', 'machico', 'hukuntsi', 'broome', 'ranfurly', 'khargone', 'tadine', 'cap malheureux', 'mizpe ramon', 'flinders', 'saraland', 'mercedes', 'klyuchi', 'sobolevo', 'chakradharpur', 'pitimbu', 'fukue', 'diego de almagro', 'hokitika', 'victoria', 'saryshagan', 'faanui', 'taoudenni', 'wilmington', 'oltu', 'volosovo', 'bayji', 'kattivakkam', 'saldanha', 'airai', 'saint-pierre', 'brenham', 'geraldton', 'mlimba', 'maningrida', 'samarai', 'cojumatlan', 'mala', 'santa maria da vitoria', 'vicuna', 'yanan', 'mitu', 'moose factory', 'yulara', 'karacakoy', 'marcona', 'qaqortoq', 'honningsvag', 'nioki', 'sao joao da barra', 'waitati', 'kamenskoye', 'cap-aux-meules', 'zhigansk', 'kudymkar', 'utiroa', 'tiarei', 'nguiu', 'srednekolymsk', 'la ronge', 'flagstaff', 'dingzhou', 'saint-joseph', 'puerto leguizamo', 'vestmanna', 'ozernovskiy', 'baghmara', 'barreirinha', 'krasnyy yar', 'black river', 'alindao', 'puerto maldonado', 'baykalsk', 'lorengau', 'liverpool', 'olga', 'northam', 'clonakilty', 'lata', 'haimen', 'dwarka', 'jequie', 'edosaki', 'bageshwar', 'tocopilla', 'chenzhou', 'rundu', 'malakal', 'fethiye', 'progreso', 'phonhong', 'zhangye', 'sosnovo-ozerskoye', 'kushmurun', 'pudozh', 'benguela', 'tawnat', 'fevralsk', 'boda', 'caraballeda', 'lagoa', 'neiafu', 'kruisfontein', 'lerwick', 'mamlyutka', 'kathu', 'melfort', 'lahat', 'mandalgovi', 'kidal', 'kahta', 'julio de castilhos', 'champerico', 'fare', 'legionowo', 'villa rica', 'gravdal', 'buala', 'pundaguitan', 'mumford', 'camacha', 'pilar', 'escanaba', 'tutoia', 'paamiut', 'itoman', 'bowen', 'luderitz', 'oskarshamn', 'atbasar', 'palamos', 'sergeyevka', 'harnosand', 'caxito', 'roald', 'gushikawa', 'belmonte', 'margate', 'barabinsk', 'san quintin', 'sao jose do egito', 'college', 'bol', 'beringovskiy', 'maloshuyka', 'nevinnomyssk', 'umm lajj', 'hecun', 'ayer tawar', 'maragogi', 'awbari', 'jiangyou', 'hobyo', 'shatrovo', 'acarau', 'darhan', 'yining', 'mvuma', 'maceio', 'oussouye', 'xuddur', 'yagodnoye', 'tongzi', 'bauta', 'sao filipe', 'ahipara', 'sinnar', 'iranshahr', 'aktash', 'agropoli', 'adrar', 'eyl', 'penzance', 'wulanhaote', 'agadez', 'monrovia', 'lauder', 'yar-sale', 'paracale', 'taksimo', 'sao miguel do araguaia', 'mocuba', 'svetlaya', 'vao', 'palmas', 'nagato', 'maridi', 'okhotsk', 'kurilsk', 'alice springs', 'kawalu', 'burgeo', 'vagay', 'bitung', 'voh', 'buin', 'san patricio', 'kuytun', 'mhlambanyatsi', 'karaul', 'jumla', 'alappuzha', 'hastings', 'boca do acre', 'langsa', 'tarudant', 'komsomolskiy', 'rawannawi', 'nosy varika', 'zyryanka', 'colquechaca', 'deniliquin', 'saint-francois', 'khandyga', 'changji', 'faya', 'tabiauea', 'babstovo', 'bulgan', 'bay roberts', 'wakkanai', 'halalo', 'bargal', 'salta', 'zarate', 'lagos', 'poum', 'ternate', 'cabrero', 'nadvoitsy', 'tsumeb', 'puerto escondido', 'leh', 'chifeng', 'takoradi', 'ugoofaaru', 'hambantota', 'levin', 'sabang', 'pelym', 'bayangol', 'tieling', 'yunjinghong', 'wasilla', 'puerto padre', 'sumbawa', 'aripuana', 'los llanos de aridane', 'rabak', 'vila velha', 'wanlaweyn', 'tautira', 'cotonou', 'panama city', 'madison', 'catuday', 'lolua', 'santa isabel do rio negro', 'kapit', 'port hedland', 'hualmay', 'tilichiki', 'ishigaki', 'lillooet', 'loyga', 'urdzhar', 'launceston', 'merauke', 'shelburne', 'ceres', 'huron', 'galgani', 'rio brilhante', 'derzhavinsk', 'chapais', 'narva-joesuu', 'usinsk', 'bolshegrivskoye', 'kayerkan', 'port blair', 'sinnamary', 'gillette', 'azul', 'tallahassee', 'katsuura', 'loiza', 'sarlat-la-caneda', 'marathopolis', 'sola', 'marathon', 'azimur', 'siddipet', 'domazlice', 'faranah', 'korla', 'beyneu', 'maarianhamina']\n"
     ]
    }
   ],
   "source": [
    "print(cities)"
   ]
  },
  {
   "cell_type": "markdown",
   "metadata": {},
   "source": [
    "### Perform API Calls\n",
    "* Perform a weather check on each city using a series of successive API calls.\n",
    "* Include a print log of each city as it'sbeing processed (with the city number and city name).\n"
   ]
  },
  {
   "cell_type": "code",
   "execution_count": 4,
   "metadata": {},
   "outputs": [
    {
     "name": "stdout",
     "output_type": "stream",
     "text": [
      "https://api.openweathermap.org/data/2.5/weather?appid=db435ea204cdb577976ef810d39c5a93&units=imperial&q=\n"
     ]
    }
   ],
   "source": [
    "url = \"https://api.openweathermap.org/data/2.5/weather?\"\n",
    "units=\"imperial\"\n",
    "query = f\"{url}appid={weather_api_key}&units={units}&q=\"\n",
    "print(query)"
   ]
  },
  {
   "cell_type": "code",
   "execution_count": 5,
   "metadata": {},
   "outputs": [
    {
     "name": "stdout",
     "output_type": "stream",
     "text": [
      "https://api.openweathermap.org/data/2.5/weather?appid=db435ea204cdb577976ef810d39c5a93&units=imperial&q=paris\n"
     ]
    }
   ],
   "source": [
    "#Example:Paris\n",
    "ex_city = \"paris\"\n",
    "ex_query = query + ex_city \n",
    "print(ex_query)\n",
    "#response = requests.get(ex_query).json()\n",
    "#pprint(response)"
   ]
  },
  {
   "cell_type": "code",
   "execution_count": 6,
   "metadata": {
    "collapsed": true
   },
   "outputs": [
    {
     "name": "stdout",
     "output_type": "stream",
     "text": [
      "Beginning Data Retrieval\n",
      "-----------------------------\n",
      "City not found. Skipping...\n",
      "Processing Record 1: kemin\n",
      "Processing Record 2: winsum\n",
      "Processing Record 3: tiksi\n",
      "City not found. Skipping...\n",
      "Processing Record 4: fairbanks\n",
      "Processing Record 5: hasaki\n",
      "Processing Record 6: punta arenas\n",
      "Processing Record 7: flin flon\n",
      "Processing Record 8: kavaratti\n",
      "Processing Record 9: talnakh\n",
      "Processing Record 10: fortuna\n",
      "Processing Record 11: puerto ayora\n",
      "Processing Record 12: manyana\n",
      "Processing Record 13: kavieng\n",
      "Processing Record 14: svetlogorsk\n",
      "Processing Record 15: nemuro\n",
      "Processing Record 16: vaini\n",
      "Processing Record 17: tazovskiy\n",
      "City not found. Skipping...\n",
      "Processing Record 18: avera\n",
      "Processing Record 19: mataura\n",
      "Processing Record 20: pizarro\n",
      "Processing Record 21: hobart\n",
      "Processing Record 22: jamestown\n",
      "Processing Record 23: bereznik\n",
      "Processing Record 24: slantsy\n",
      "Processing Record 25: touros\n",
      "Processing Record 26: butaritari\n",
      "City not found. Skipping...\n",
      "Processing Record 27: coromandel\n",
      "Processing Record 28: lompoc\n",
      "Processing Record 29: griffith\n",
      "Processing Record 30: pangody\n",
      "Processing Record 31: vila\n",
      "City not found. Skipping...\n",
      "Processing Record 32: cape town\n",
      "City not found. Skipping...\n",
      "Processing Record 33: port-gentil\n",
      "Processing Record 34: asau\n",
      "Processing Record 35: chokurdakh\n",
      "Processing Record 36: egvekinot\n",
      "Processing Record 37: hilo\n",
      "Processing Record 38: santa marta\n",
      "Processing Record 39: port alfred\n",
      "Processing Record 40: rikitea\n",
      "Processing Record 41: oistins\n",
      "Processing Record 42: new norfolk\n",
      "Processing Record 43: tual\n",
      "Processing Record 44: chuy\n",
      "Processing Record 45: ushuaia\n",
      "Processing Record 46: nikolskoye\n",
      "Processing Record 47: manzhouli\n",
      "Processing Record 48: albany\n",
      "Processing Record 49: aklavik\n",
      "Processing Record 50: thompson\n",
      "Processing Record 51: port moresby\n",
      "Processing Record 52: mar del plata\n",
      "City not found. Skipping...\n",
      "Processing Record 53: lebu\n",
      "Processing Record 54: carnarvon\n",
      "Processing Record 55: shache\n",
      "Processing Record 56: lavrentiya\n",
      "Processing Record 57: ak-dovurak\n",
      "City not found. Skipping...\n",
      "City not found. Skipping...\n",
      "Processing Record 58: san vicente\n",
      "Processing Record 59: mendi\n",
      "Processing Record 60: smithers\n",
      "Processing Record 61: norman wells\n",
      "Processing Record 62: cristalina\n",
      "Processing Record 63: cockburn town\n",
      "Processing Record 64: isangel\n",
      "Processing Record 65: miri\n",
      "Processing Record 66: san andres sajcabaja\n",
      "Processing Record 67: longyearbyen\n",
      "Processing Record 68: ancud\n",
      "Processing Record 69: yenagoa\n",
      "Processing Record 70: hermanus\n",
      "Processing Record 71: yanam\n",
      "Processing Record 72: cody\n",
      "Processing Record 73: ayan\n",
      "Processing Record 74: pisco\n",
      "Processing Record 75: sangar\n",
      "Processing Record 76: amahai\n",
      "City not found. Skipping...\n",
      "Processing Record 77: russell\n",
      "Processing Record 78: chiredzi\n",
      "Processing Record 79: vostok\n",
      "Processing Record 80: moron\n",
      "Processing Record 81: clyde river\n",
      "Processing Record 82: batemans bay\n",
      "Processing Record 83: santa maria\n",
      "Processing Record 84: laela\n",
      "Processing Record 85: saskylakh\n",
      "Processing Record 86: umba\n",
      "Processing Record 87: sierre\n",
      "Processing Record 88: cobija\n",
      "Processing Record 89: deoli\n",
      "Processing Record 90: san cristobal\n",
      "Processing Record 91: bluff\n",
      "Processing Record 92: alta gracia\n",
      "Processing Record 93: taga\n",
      "Processing Record 94: tasiilaq\n",
      "Processing Record 95: busselton\n",
      "Processing Record 96: peniche\n",
      "Processing Record 97: dikson\n",
      "Processing Record 98: manavgat\n",
      "Processing Record 99: khatanga\n",
      "City not found. Skipping...\n",
      "Processing Record 100: arraial do cabo\n",
      "Processing Record 101: kahului\n",
      "City not found. Skipping...\n",
      "Processing Record 102: bilibino\n",
      "Processing Record 103: keti bandar\n",
      "Processing Record 104: jadu\n",
      "Processing Record 105: sitka\n",
      "City not found. Skipping...\n",
      "Processing Record 106: yerbogachen\n",
      "Processing Record 107: avarua\n",
      "City not found. Skipping...\n",
      "Processing Record 108: harper\n",
      "Processing Record 109: jalu\n",
      "City not found. Skipping...\n",
      "Processing Record 110: tevaitoa\n",
      "Processing Record 111: alta floresta\n",
      "Processing Record 112: mezen\n",
      "City not found. Skipping...\n",
      "Processing Record 113: virginia beach\n",
      "Processing Record 114: omsukchan\n",
      "Processing Record 115: georgetown\n",
      "Processing Record 116: sayyan\n",
      "City not found. Skipping...\n",
      "Processing Record 117: torbay\n",
      "Processing Record 118: severo-kurilsk\n",
      "Processing Record 119: tuktoyaktuk\n",
      "Processing Record 120: nouadhibou\n",
      "Processing Record 121: husavik\n",
      "City not found. Skipping...\n",
      "Processing Record 122: pemangkat\n",
      "Processing Record 123: bethel\n",
      "Processing Record 124: doka\n",
      "Processing Record 125: turochak\n",
      "Processing Record 126: muisne\n",
      "Processing Record 127: la libertad\n",
      "Processing Record 128: saint-philippe\n",
      "Processing Record 129: tarata\n",
      "Processing Record 130: pangnirtung\n",
      "Processing Record 131: pitsunda\n",
      "Processing Record 132: cayenne\n",
      "Processing Record 133: puerto santander\n",
      "Processing Record 134: eydhafushi\n",
      "Processing Record 135: east london\n",
      "Processing Record 136: karasjok\n",
      "Processing Record 137: yellowknife\n",
      "Processing Record 138: tromso\n",
      "Processing Record 139: kodiak\n",
      "Processing Record 140: barrow\n",
      "Processing Record 141: souillac\n",
      "Processing Record 142: odweyne\n",
      "Processing Record 143: traiguen\n",
      "Processing Record 144: viedma\n",
      "Processing Record 145: bengkulu\n",
      "Processing Record 146: hurghada\n",
      "Processing Record 147: taltal\n",
      "Processing Record 148: banjar\n",
      "Processing Record 149: esperance\n",
      "Processing Record 150: marawi\n",
      "Processing Record 151: qaanaaq\n",
      "Processing Record 152: estelle\n",
      "Processing Record 153: menomonie\n",
      "Processing Record 154: naryan-mar\n",
      "Processing Record 155: alvand\n",
      "Processing Record 156: zhezkazgan\n",
      "Processing Record 157: worcester\n",
      "Processing Record 158: havelock\n",
      "Processing Record 159: suhbaatar\n",
      "City not found. Skipping...\n",
      "Processing Record 160: padang\n",
      "Processing Record 161: ponta do sol\n",
      "Processing Record 162: omboue\n",
      "Processing Record 163: narok\n",
      "Processing Record 164: kalmunai\n",
      "Processing Record 165: ningbo\n",
      "Processing Record 166: severobaykalsk\n",
      "Processing Record 167: kaitangata\n",
      "City not found. Skipping...\n",
      "Processing Record 168: syracuse\n",
      "Processing Record 169: bredasdorp\n",
      "Processing Record 170: portland\n",
      "Processing Record 171: port elizabeth\n",
      "Processing Record 172: two rivers\n",
      "Processing Record 173: benicarlo\n",
      "Processing Record 174: alofi\n",
      "Processing Record 175: bereda\n",
      "Processing Record 176: linguere\n",
      "Processing Record 177: broadstairs\n",
      "Processing Record 178: una\n",
      "Processing Record 179: beloha\n",
      "Processing Record 180: hithadhoo\n",
      "Processing Record 181: bambous virieux\n",
      "Processing Record 182: tarancon\n",
      "Processing Record 183: port macquarie\n",
      "Processing Record 184: mackenzie\n",
      "Processing Record 185: saint anthony\n",
      "Processing Record 186: upernavik\n",
      "Processing Record 187: yuncheng\n",
      "Processing Record 188: saint george\n",
      "Processing Record 189: turayf\n",
      "Processing Record 190: przhevalskoye\n",
      "Processing Record 191: cherskiy\n",
      "Processing Record 192: davidson\n",
      "Processing Record 193: kieta\n",
      "Processing Record 194: metro\n",
      "Processing Record 195: santiago del estero\n",
      "Processing Record 196: polyarnyy\n",
      "Processing Record 197: linxia\n",
      "Processing Record 198: port lincoln\n",
      "Processing Record 199: havre-saint-pierre\n",
      "Processing Record 200: castro\n",
      "Processing Record 201: le port\n",
      "Processing Record 202: pevek\n",
      "Processing Record 203: kailua\n",
      "Processing Record 204: codrington\n",
      "Processing Record 205: sisimiut\n",
      "Processing Record 206: guerrero negro\n",
      "Processing Record 207: atherton\n",
      "Processing Record 208: semey\n",
      "City not found. Skipping...\n",
      "Processing Record 209: grand gaube\n",
      "Processing Record 210: mount gambier\n",
      "Processing Record 211: dawei\n",
      "Processing Record 212: san lazaro\n",
      "Processing Record 213: coihaique\n",
      "Processing Record 214: trairi\n",
      "Processing Record 215: shenjiamen\n",
      "Processing Record 216: kapaa\n",
      "Processing Record 217: ribeira grande\n",
      "Processing Record 218: naspur\n",
      "Processing Record 219: hamilton\n",
      "City not found. Skipping...\n",
      "Processing Record 220: hit\n",
      "Processing Record 221: gat\n",
      "Processing Record 222: bathsheba\n",
      "Processing Record 223: lake city\n",
      "Processing Record 224: dingle\n",
      "Processing Record 225: rocha\n",
      "Processing Record 226: nishihara\n",
      "Processing Record 227: dalton\n",
      "Processing Record 228: sorland\n",
      "Processing Record 229: larsnes\n",
      "Processing Record 230: ostrovnoy\n",
      "Processing Record 231: baykit\n",
      "Processing Record 232: jabinyanah\n",
      "Processing Record 233: micoud\n",
      "Processing Record 234: nueva loja\n",
      "Processing Record 235: isla mujeres\n",
      "Processing Record 236: atuona\n",
      "Processing Record 237: dunedin\n",
      "Processing Record 238: bani walid\n"
     ]
    },
    {
     "name": "stdout",
     "output_type": "stream",
     "text": [
      "Processing Record 239: nuuk\n",
      "Processing Record 240: nanortalik\n",
      "Processing Record 241: mahajanga\n",
      "Processing Record 242: leningradskiy\n",
      "Processing Record 243: ndele\n",
      "Processing Record 244: tarko-sale\n",
      "City not found. Skipping...\n",
      "Processing Record 245: klaksvik\n",
      "Processing Record 246: namibe\n",
      "Processing Record 247: nouakchott\n",
      "Processing Record 248: mahebourg\n",
      "Processing Record 249: half moon bay\n",
      "Processing Record 250: golden\n",
      "Processing Record 251: praia da vitoria\n",
      "Processing Record 252: hofn\n",
      "Processing Record 253: darlawn\n",
      "Processing Record 254: vila franca do campo\n",
      "Processing Record 255: paratinga\n",
      "Processing Record 256: laguna\n",
      "Processing Record 257: marsabit\n",
      "Processing Record 258: pacific grove\n",
      "Processing Record 259: askiz\n",
      "Processing Record 260: mecca\n",
      "Processing Record 261: constitucion\n",
      "Processing Record 262: provideniya\n",
      "Processing Record 263: aldama\n",
      "Processing Record 264: imbituba\n",
      "Processing Record 265: narsaq\n",
      "Processing Record 266: cidreira\n",
      "Processing Record 267: kuusamo\n",
      "Processing Record 268: cabo san lucas\n",
      "Processing Record 269: nizwa\n",
      "Processing Record 270: belyy gorodok\n",
      "Processing Record 271: ottawa\n",
      "Processing Record 272: erenhot\n",
      "Processing Record 273: brignoles\n",
      "City not found. Skipping...\n",
      "Processing Record 274: saint-augustin\n",
      "City not found. Skipping...\n",
      "Processing Record 275: yatou\n",
      "City not found. Skipping...\n",
      "Processing Record 276: ryotsu\n",
      "Processing Record 277: quimper\n",
      "Processing Record 278: haines junction\n",
      "Processing Record 279: san carlos de bariloche\n",
      "Processing Record 280: angoche\n",
      "Processing Record 281: xichang\n",
      "Processing Record 282: rajgarh\n",
      "Processing Record 283: constantine\n",
      "Processing Record 284: shingu\n",
      "Processing Record 285: tetouan\n",
      "Processing Record 286: birao\n",
      "Processing Record 287: peruibe\n",
      "Processing Record 288: gamba\n",
      "Processing Record 289: lumeje\n",
      "Processing Record 290: vardo\n",
      "Processing Record 291: ayr\n",
      "Processing Record 292: himatangi\n",
      "City not found. Skipping...\n",
      "Processing Record 293: necochea\n",
      "Processing Record 294: lingao\n",
      "Processing Record 295: cabra\n",
      "Processing Record 296: daru\n",
      "Processing Record 297: pinotepa nacional\n",
      "Processing Record 298: lasa\n",
      "Processing Record 299: vestmannaeyjar\n",
      "Processing Record 300: kita\n",
      "Processing Record 301: emerald\n",
      "Processing Record 302: gatton\n",
      "Processing Record 303: port hardy\n",
      "City not found. Skipping...\n",
      "Processing Record 304: senanga\n",
      "Processing Record 305: iqaluit\n",
      "Processing Record 306: hashtrud\n",
      "Processing Record 307: monte gordo\n",
      "Processing Record 308: aykhal\n",
      "Processing Record 309: waipawa\n",
      "Processing Record 310: machico\n",
      "Processing Record 311: hukuntsi\n",
      "Processing Record 312: broome\n",
      "Processing Record 313: ranfurly\n",
      "Processing Record 314: khargone\n",
      "Processing Record 315: tadine\n",
      "Processing Record 316: cap malheureux\n",
      "City not found. Skipping...\n",
      "Processing Record 317: flinders\n",
      "Processing Record 318: saraland\n",
      "Processing Record 319: mercedes\n",
      "Processing Record 320: klyuchi\n",
      "Processing Record 321: sobolevo\n",
      "Processing Record 322: chakradharpur\n",
      "Processing Record 323: pitimbu\n",
      "Processing Record 324: fukue\n",
      "Processing Record 325: diego de almagro\n",
      "Processing Record 326: hokitika\n",
      "Processing Record 327: victoria\n",
      "City not found. Skipping...\n",
      "Processing Record 328: faanui\n",
      "Processing Record 329: taoudenni\n",
      "Processing Record 330: wilmington\n",
      "Processing Record 331: oltu\n",
      "Processing Record 332: volosovo\n",
      "Processing Record 333: bayji\n",
      "Processing Record 334: kattivakkam\n",
      "Processing Record 335: saldanha\n",
      "Processing Record 336: airai\n",
      "Processing Record 337: saint-pierre\n",
      "Processing Record 338: brenham\n",
      "Processing Record 339: geraldton\n",
      "Processing Record 340: mlimba\n",
      "Processing Record 341: maningrida\n",
      "Processing Record 342: samarai\n",
      "City not found. Skipping...\n",
      "Processing Record 343: mala\n",
      "Processing Record 344: santa maria da vitoria\n",
      "Processing Record 345: vicuna\n",
      "City not found. Skipping...\n",
      "Processing Record 346: mitu\n",
      "Processing Record 347: moose factory\n",
      "Processing Record 348: yulara\n",
      "Processing Record 349: karacakoy\n",
      "City not found. Skipping...\n",
      "Processing Record 350: qaqortoq\n",
      "Processing Record 351: honningsvag\n",
      "Processing Record 352: nioki\n",
      "Processing Record 353: sao joao da barra\n",
      "Processing Record 354: waitati\n",
      "City not found. Skipping...\n",
      "Processing Record 355: cap-aux-meules\n",
      "Processing Record 356: zhigansk\n",
      "Processing Record 357: kudymkar\n",
      "City not found. Skipping...\n",
      "Processing Record 358: tiarei\n",
      "City not found. Skipping...\n",
      "Processing Record 359: srednekolymsk\n",
      "Processing Record 360: la ronge\n",
      "Processing Record 361: flagstaff\n",
      "Processing Record 362: dingzhou\n",
      "Processing Record 363: saint-joseph\n",
      "Processing Record 364: puerto leguizamo\n",
      "Processing Record 365: vestmanna\n",
      "Processing Record 366: ozernovskiy\n",
      "Processing Record 367: baghmara\n",
      "Processing Record 368: barreirinha\n",
      "Processing Record 369: krasnyy yar\n",
      "Processing Record 370: black river\n",
      "Processing Record 371: alindao\n",
      "Processing Record 372: puerto maldonado\n",
      "Processing Record 373: baykalsk\n",
      "Processing Record 374: lorengau\n",
      "Processing Record 375: liverpool\n",
      "Processing Record 376: olga\n",
      "Processing Record 377: northam\n",
      "Processing Record 378: clonakilty\n",
      "Processing Record 379: lata\n",
      "Processing Record 380: haimen\n",
      "Processing Record 381: dwarka\n",
      "Processing Record 382: jequie\n",
      "Processing Record 383: edosaki\n",
      "Processing Record 384: bageshwar\n",
      "Processing Record 385: tocopilla\n",
      "Processing Record 386: chenzhou\n",
      "Processing Record 387: rundu\n",
      "Processing Record 388: malakal\n",
      "Processing Record 389: fethiye\n",
      "Processing Record 390: progreso\n",
      "Processing Record 391: phonhong\n",
      "Processing Record 392: zhangye\n",
      "Processing Record 393: sosnovo-ozerskoye\n",
      "Processing Record 394: kushmurun\n",
      "Processing Record 395: pudozh\n",
      "Processing Record 396: benguela\n",
      "City not found. Skipping...\n",
      "City not found. Skipping...\n",
      "Processing Record 397: boda\n",
      "Processing Record 398: caraballeda\n",
      "Processing Record 399: lagoa\n",
      "Processing Record 400: neiafu\n",
      "Processing Record 401: kruisfontein\n",
      "Processing Record 402: lerwick\n",
      "Processing Record 403: mamlyutka\n",
      "Processing Record 404: kathu\n",
      "Processing Record 405: melfort\n",
      "Processing Record 406: lahat\n",
      "Processing Record 407: mandalgovi\n",
      "Processing Record 408: kidal\n",
      "Processing Record 409: kahta\n",
      "Processing Record 410: julio de castilhos\n",
      "Processing Record 411: champerico\n",
      "Processing Record 412: fare\n",
      "Processing Record 413: legionowo\n",
      "Processing Record 414: villa rica\n",
      "Processing Record 415: gravdal\n",
      "Processing Record 416: buala\n",
      "Processing Record 417: pundaguitan\n",
      "Processing Record 418: mumford\n",
      "Processing Record 419: camacha\n",
      "Processing Record 420: pilar\n",
      "Processing Record 421: escanaba\n",
      "Processing Record 422: tutoia\n",
      "Processing Record 423: paamiut\n",
      "Processing Record 424: itoman\n",
      "Processing Record 425: bowen\n",
      "Processing Record 426: luderitz\n",
      "Processing Record 427: oskarshamn\n",
      "Processing Record 428: atbasar\n",
      "Processing Record 429: palamos\n",
      "Processing Record 430: sergeyevka\n",
      "Processing Record 431: harnosand\n",
      "Processing Record 432: caxito\n",
      "Processing Record 433: roald\n",
      "Processing Record 434: gushikawa\n",
      "Processing Record 435: belmonte\n",
      "Processing Record 436: margate\n",
      "Processing Record 437: barabinsk\n",
      "Processing Record 438: san quintin\n",
      "Processing Record 439: sao jose do egito\n",
      "Processing Record 440: college\n",
      "Processing Record 441: bol\n",
      "Processing Record 442: beringovskiy\n",
      "City not found. Skipping...\n",
      "Processing Record 443: nevinnomyssk\n",
      "Processing Record 444: umm lajj\n",
      "Processing Record 445: hecun\n",
      "Processing Record 446: ayer tawar\n",
      "Processing Record 447: maragogi\n",
      "Processing Record 448: awbari\n",
      "Processing Record 449: jiangyou\n",
      "Processing Record 450: hobyo\n",
      "Processing Record 451: shatrovo\n",
      "Processing Record 452: acarau\n",
      "Processing Record 453: darhan\n",
      "Processing Record 454: yining\n",
      "Processing Record 455: mvuma\n",
      "Processing Record 456: maceio\n",
      "Processing Record 457: oussouye\n",
      "Processing Record 458: xuddur\n",
      "Processing Record 459: yagodnoye\n",
      "Processing Record 460: tongzi\n",
      "Processing Record 461: bauta\n",
      "Processing Record 462: sao filipe\n",
      "Processing Record 463: ahipara\n",
      "Processing Record 464: sinnar\n",
      "Processing Record 465: iranshahr\n",
      "Processing Record 466: aktash\n",
      "Processing Record 467: agropoli\n",
      "Processing Record 468: adrar\n",
      "Processing Record 469: eyl\n",
      "Processing Record 470: penzance\n",
      "City not found. Skipping...\n",
      "Processing Record 471: agadez\n",
      "Processing Record 472: monrovia\n",
      "Processing Record 473: lauder\n",
      "Processing Record 474: yar-sale\n",
      "Processing Record 475: paracale\n",
      "Processing Record 476: taksimo\n",
      "Processing Record 477: sao miguel do araguaia\n"
     ]
    },
    {
     "name": "stdout",
     "output_type": "stream",
     "text": [
      "Processing Record 478: mocuba\n",
      "Processing Record 479: svetlaya\n",
      "Processing Record 480: vao\n",
      "Processing Record 481: palmas\n",
      "Processing Record 482: nagato\n",
      "Processing Record 483: maridi\n",
      "Processing Record 484: okhotsk\n",
      "Processing Record 485: kurilsk\n",
      "Processing Record 486: alice springs\n",
      "Processing Record 487: kawalu\n",
      "Processing Record 488: burgeo\n",
      "Processing Record 489: vagay\n",
      "Processing Record 490: bitung\n",
      "Processing Record 491: voh\n",
      "Processing Record 492: buin\n",
      "Processing Record 493: san patricio\n",
      "Processing Record 494: kuytun\n",
      "Processing Record 495: mhlambanyatsi\n",
      "City not found. Skipping...\n",
      "Processing Record 496: jumla\n",
      "Processing Record 497: alappuzha\n",
      "Processing Record 498: hastings\n",
      "Processing Record 499: boca do acre\n",
      "Processing Record 500: langsa\n",
      "City not found. Skipping...\n",
      "Processing Record 501: komsomolskiy\n",
      "City not found. Skipping...\n",
      "Processing Record 502: nosy varika\n",
      "Processing Record 503: zyryanka\n",
      "Processing Record 504: colquechaca\n",
      "Processing Record 505: deniliquin\n",
      "Processing Record 506: saint-francois\n",
      "Processing Record 507: khandyga\n",
      "Processing Record 508: changji\n",
      "Processing Record 509: faya\n",
      "City not found. Skipping...\n",
      "Processing Record 510: babstovo\n",
      "Processing Record 511: bulgan\n",
      "Processing Record 512: bay roberts\n",
      "Processing Record 513: wakkanai\n",
      "City not found. Skipping...\n",
      "City not found. Skipping...\n",
      "Processing Record 514: salta\n",
      "Processing Record 515: zarate\n",
      "Processing Record 516: lagos\n",
      "Processing Record 517: poum\n",
      "Processing Record 518: ternate\n",
      "Processing Record 519: cabrero\n",
      "Processing Record 520: nadvoitsy\n",
      "Processing Record 521: tsumeb\n",
      "Processing Record 522: puerto escondido\n",
      "Processing Record 523: leh\n",
      "Processing Record 524: chifeng\n",
      "Processing Record 525: takoradi\n",
      "Processing Record 526: ugoofaaru\n",
      "Processing Record 527: hambantota\n",
      "Processing Record 528: levin\n",
      "Processing Record 529: sabang\n",
      "Processing Record 530: pelym\n",
      "Processing Record 531: bayangol\n",
      "Processing Record 532: tieling\n",
      "City not found. Skipping...\n",
      "Processing Record 533: wasilla\n",
      "Processing Record 534: puerto padre\n",
      "City not found. Skipping...\n",
      "Processing Record 535: aripuana\n",
      "Processing Record 536: los llanos de aridane\n",
      "Processing Record 537: rabak\n",
      "Processing Record 538: vila velha\n",
      "Processing Record 539: wanlaweyn\n",
      "Processing Record 540: tautira\n",
      "Processing Record 541: cotonou\n",
      "Processing Record 542: panama city\n",
      "Processing Record 543: madison\n",
      "Processing Record 544: catuday\n",
      "City not found. Skipping...\n",
      "Processing Record 545: santa isabel do rio negro\n",
      "Processing Record 546: kapit\n",
      "Processing Record 547: port hedland\n",
      "Processing Record 548: hualmay\n",
      "Processing Record 549: tilichiki\n",
      "Processing Record 550: ishigaki\n",
      "Processing Record 551: lillooet\n",
      "Processing Record 552: loyga\n",
      "City not found. Skipping...\n",
      "Processing Record 553: launceston\n",
      "Processing Record 554: merauke\n",
      "Processing Record 555: shelburne\n",
      "Processing Record 556: ceres\n",
      "Processing Record 557: huron\n",
      "City not found. Skipping...\n",
      "Processing Record 558: rio brilhante\n",
      "Processing Record 559: derzhavinsk\n",
      "Processing Record 560: chapais\n",
      "Processing Record 561: narva-joesuu\n",
      "Processing Record 562: usinsk\n",
      "City not found. Skipping...\n",
      "Processing Record 563: kayerkan\n",
      "Processing Record 564: port blair\n",
      "Processing Record 565: sinnamary\n",
      "Processing Record 566: gillette\n",
      "Processing Record 567: azul\n",
      "Processing Record 568: tallahassee\n",
      "Processing Record 569: katsuura\n",
      "Processing Record 570: loiza\n",
      "Processing Record 571: sarlat-la-caneda\n",
      "City not found. Skipping...\n",
      "Processing Record 572: sola\n",
      "Processing Record 573: marathon\n",
      "City not found. Skipping...\n",
      "Processing Record 574: siddipet\n",
      "Processing Record 575: domazlice\n",
      "Processing Record 576: faranah\n",
      "Processing Record 577: korla\n",
      "Processing Record 578: beyneu\n",
      "Processing Record 579: maarianhamina\n",
      "-----------------------------\n",
      "Data Retrieval Complete\n",
      "-----------------------------\n"
     ]
    }
   ],
   "source": [
    "print(f\"Beginning Data Retrieval\")\n",
    "print(f\"-----------------------------\")\n",
    "\n",
    "city_name=[]\n",
    "lat=[]\n",
    "lng=[]\n",
    "max_temp=[]\n",
    "humidity=[]\n",
    "cloudiness=[]\n",
    "wind_speed=[]\n",
    "country=[]\n",
    "date=[]\n",
    "\n",
    "num = 1\n",
    "\n",
    "for city in cities:\n",
    "    try:\n",
    "        query_url = query + city\n",
    "        response = requests.get(query_url).json()\n",
    "        city_name.append(response[\"name\"])\n",
    "        lat.append(response[\"coord\"][\"lat\"])\n",
    "        lng.append(response[\"coord\"][\"lon\"])\n",
    "        max_temp.append(response[\"main\"][\"temp_max\"])\n",
    "        humidity.append(response[\"main\"][\"humidity\"])\n",
    "        cloudiness.append(response[\"clouds\"][\"all\"])\n",
    "        wind_speed.append(response[\"wind\"][\"speed\"])\n",
    "        country.append(response[\"sys\"][\"country\"])\n",
    "        date.append(response[\"dt\"])\n",
    "        print(f\"Processing Record {num}: {city}\")\n",
    "        num += 1\n",
    "    except:\n",
    "        print(\"City not found. Skipping...\")\n",
    "        \n",
    "print(\"-----------------------------\")\n",
    "print(\"Data Retrieval Complete\")\n",
    "print(\"-----------------------------\")\n"
   ]
  },
  {
   "cell_type": "markdown",
   "metadata": {},
   "source": [
    "### Convert Raw Data to DataFrame\n",
    "* Export the city data into a .csv.\n",
    "* Display the DataFrame"
   ]
  },
  {
   "cell_type": "code",
   "execution_count": 9,
   "metadata": {},
   "outputs": [],
   "source": [
    "weather_dict = {\n",
    "    \"City\":city_name,\n",
    "    \"Lat\":lat,\n",
    "    \"Lng\":lng,\n",
    "    \"Max Temp\":max_temp,\n",
    "    \"Humidity\":humidity,\n",
    "    \"Cloudiness\":cloudiness,\n",
    "    \"Wind Speed\":wind_speed,\n",
    "    \"Country\":country,\n",
    "    \"Date\":date\n",
    "}\n",
    "weather_data = pd.DataFrame(weather_dict)  "
   ]
  },
  {
   "cell_type": "code",
   "execution_count": 10,
   "metadata": {},
   "outputs": [
    {
     "data": {
      "text/plain": [
       "City          579\n",
       "Lat           579\n",
       "Lng           579\n",
       "Max Temp      579\n",
       "Humidity      579\n",
       "Cloudiness    579\n",
       "Wind Speed    579\n",
       "Country       579\n",
       "Date          579\n",
       "dtype: int64"
      ]
     },
     "execution_count": 10,
     "metadata": {},
     "output_type": "execute_result"
    }
   ],
   "source": [
    "weather_data.count()"
   ]
  },
  {
   "cell_type": "code",
   "execution_count": 11,
   "metadata": {},
   "outputs": [
    {
     "data": {
      "text/html": [
       "<div>\n",
       "<style scoped>\n",
       "    .dataframe tbody tr th:only-of-type {\n",
       "        vertical-align: middle;\n",
       "    }\n",
       "\n",
       "    .dataframe tbody tr th {\n",
       "        vertical-align: top;\n",
       "    }\n",
       "\n",
       "    .dataframe thead th {\n",
       "        text-align: right;\n",
       "    }\n",
       "</style>\n",
       "<table border=\"1\" class=\"dataframe\">\n",
       "  <thead>\n",
       "    <tr style=\"text-align: right;\">\n",
       "      <th></th>\n",
       "      <th>City</th>\n",
       "      <th>Lat</th>\n",
       "      <th>Lng</th>\n",
       "      <th>Max Temp</th>\n",
       "      <th>Humidity</th>\n",
       "      <th>Cloudiness</th>\n",
       "      <th>Wind Speed</th>\n",
       "      <th>Country</th>\n",
       "      <th>Date</th>\n",
       "    </tr>\n",
       "  </thead>\n",
       "  <tbody>\n",
       "    <tr>\n",
       "      <th>0</th>\n",
       "      <td>Kemin</td>\n",
       "      <td>42.78</td>\n",
       "      <td>75.69</td>\n",
       "      <td>61.48</td>\n",
       "      <td>30</td>\n",
       "      <td>0</td>\n",
       "      <td>1.83</td>\n",
       "      <td>KG</td>\n",
       "      <td>1600697527</td>\n",
       "    </tr>\n",
       "    <tr>\n",
       "      <th>1</th>\n",
       "      <td>Winsum</td>\n",
       "      <td>53.33</td>\n",
       "      <td>6.52</td>\n",
       "      <td>73.40</td>\n",
       "      <td>40</td>\n",
       "      <td>0</td>\n",
       "      <td>2.24</td>\n",
       "      <td>NL</td>\n",
       "      <td>1600697923</td>\n",
       "    </tr>\n",
       "    <tr>\n",
       "      <th>2</th>\n",
       "      <td>Tiksi</td>\n",
       "      <td>71.69</td>\n",
       "      <td>128.87</td>\n",
       "      <td>44.76</td>\n",
       "      <td>77</td>\n",
       "      <td>84</td>\n",
       "      <td>12.12</td>\n",
       "      <td>RU</td>\n",
       "      <td>1600697471</td>\n",
       "    </tr>\n",
       "    <tr>\n",
       "      <th>3</th>\n",
       "      <td>Fairbanks</td>\n",
       "      <td>64.84</td>\n",
       "      <td>-147.72</td>\n",
       "      <td>35.01</td>\n",
       "      <td>90</td>\n",
       "      <td>75</td>\n",
       "      <td>2.95</td>\n",
       "      <td>US</td>\n",
       "      <td>1600697703</td>\n",
       "    </tr>\n",
       "    <tr>\n",
       "      <th>4</th>\n",
       "      <td>Hasaki</td>\n",
       "      <td>35.73</td>\n",
       "      <td>140.83</td>\n",
       "      <td>68.00</td>\n",
       "      <td>94</td>\n",
       "      <td>75</td>\n",
       "      <td>6.93</td>\n",
       "      <td>JP</td>\n",
       "      <td>1600697235</td>\n",
       "    </tr>\n",
       "  </tbody>\n",
       "</table>\n",
       "</div>"
      ],
      "text/plain": [
       "        City    Lat     Lng  Max Temp  Humidity  Cloudiness  Wind Speed  \\\n",
       "0      Kemin  42.78   75.69     61.48        30           0        1.83   \n",
       "1     Winsum  53.33    6.52     73.40        40           0        2.24   \n",
       "2      Tiksi  71.69  128.87     44.76        77          84       12.12   \n",
       "3  Fairbanks  64.84 -147.72     35.01        90          75        2.95   \n",
       "4     Hasaki  35.73  140.83     68.00        94          75        6.93   \n",
       "\n",
       "  Country        Date  \n",
       "0      KG  1600697527  \n",
       "1      NL  1600697923  \n",
       "2      RU  1600697471  \n",
       "3      US  1600697703  \n",
       "4      JP  1600697235  "
      ]
     },
     "execution_count": 11,
     "metadata": {},
     "output_type": "execute_result"
    }
   ],
   "source": [
    "#Display the DataFrame\n",
    "weather_data.head()"
   ]
  },
  {
   "cell_type": "code",
   "execution_count": 18,
   "metadata": {},
   "outputs": [],
   "source": [
    "#Export the city data into a .csv.\n",
    "weather_data.to_csv(\"weather.csv\", index = False)"
   ]
  },
  {
   "cell_type": "markdown",
   "metadata": {},
   "source": [
    "## Inspect the data and remove the cities where the humidity > 100%.\n",
    "----\n",
    "Skip this step if there are no cities that have humidity > 100%. "
   ]
  },
  {
   "cell_type": "code",
   "execution_count": 19,
   "metadata": {},
   "outputs": [
    {
     "data": {
      "text/html": [
       "<div>\n",
       "<style scoped>\n",
       "    .dataframe tbody tr th:only-of-type {\n",
       "        vertical-align: middle;\n",
       "    }\n",
       "\n",
       "    .dataframe tbody tr th {\n",
       "        vertical-align: top;\n",
       "    }\n",
       "\n",
       "    .dataframe thead th {\n",
       "        text-align: right;\n",
       "    }\n",
       "</style>\n",
       "<table border=\"1\" class=\"dataframe\">\n",
       "  <thead>\n",
       "    <tr style=\"text-align: right;\">\n",
       "      <th></th>\n",
       "      <th>Lat</th>\n",
       "      <th>Lng</th>\n",
       "      <th>Max Temp</th>\n",
       "      <th>Humidity</th>\n",
       "      <th>Cloudiness</th>\n",
       "      <th>Wind Speed</th>\n",
       "      <th>Date</th>\n",
       "    </tr>\n",
       "  </thead>\n",
       "  <tbody>\n",
       "    <tr>\n",
       "      <th>count</th>\n",
       "      <td>579.000000</td>\n",
       "      <td>579.000000</td>\n",
       "      <td>579.000000</td>\n",
       "      <td>579.000000</td>\n",
       "      <td>579.000000</td>\n",
       "      <td>579.000000</td>\n",
       "      <td>5.790000e+02</td>\n",
       "    </tr>\n",
       "    <tr>\n",
       "      <th>mean</th>\n",
       "      <td>20.262418</td>\n",
       "      <td>17.556269</td>\n",
       "      <td>66.466166</td>\n",
       "      <td>68.238342</td>\n",
       "      <td>46.164076</td>\n",
       "      <td>8.469413</td>\n",
       "      <td>1.600698e+09</td>\n",
       "    </tr>\n",
       "    <tr>\n",
       "      <th>std</th>\n",
       "      <td>33.517924</td>\n",
       "      <td>89.443991</td>\n",
       "      <td>17.159286</td>\n",
       "      <td>22.014509</td>\n",
       "      <td>38.839823</td>\n",
       "      <td>6.217968</td>\n",
       "      <td>2.632971e+02</td>\n",
       "    </tr>\n",
       "    <tr>\n",
       "      <th>min</th>\n",
       "      <td>-54.800000</td>\n",
       "      <td>-179.170000</td>\n",
       "      <td>16.750000</td>\n",
       "      <td>2.000000</td>\n",
       "      <td>0.000000</td>\n",
       "      <td>0.180000</td>\n",
       "      <td>1.600697e+09</td>\n",
       "    </tr>\n",
       "    <tr>\n",
       "      <th>25%</th>\n",
       "      <td>-8.775000</td>\n",
       "      <td>-59.695000</td>\n",
       "      <td>53.180000</td>\n",
       "      <td>59.000000</td>\n",
       "      <td>1.000000</td>\n",
       "      <td>3.555000</td>\n",
       "      <td>1.600698e+09</td>\n",
       "    </tr>\n",
       "    <tr>\n",
       "      <th>50%</th>\n",
       "      <td>24.340000</td>\n",
       "      <td>20.040000</td>\n",
       "      <td>68.000000</td>\n",
       "      <td>73.000000</td>\n",
       "      <td>40.000000</td>\n",
       "      <td>6.930000</td>\n",
       "      <td>1.600698e+09</td>\n",
       "    </tr>\n",
       "    <tr>\n",
       "      <th>75%</th>\n",
       "      <td>48.465000</td>\n",
       "      <td>95.845000</td>\n",
       "      <td>79.325000</td>\n",
       "      <td>84.000000</td>\n",
       "      <td>87.500000</td>\n",
       "      <td>11.410000</td>\n",
       "      <td>1.600698e+09</td>\n",
       "    </tr>\n",
       "    <tr>\n",
       "      <th>max</th>\n",
       "      <td>78.220000</td>\n",
       "      <td>179.320000</td>\n",
       "      <td>111.130000</td>\n",
       "      <td>100.000000</td>\n",
       "      <td>100.000000</td>\n",
       "      <td>48.320000</td>\n",
       "      <td>1.600698e+09</td>\n",
       "    </tr>\n",
       "  </tbody>\n",
       "</table>\n",
       "</div>"
      ],
      "text/plain": [
       "              Lat         Lng    Max Temp    Humidity  Cloudiness  Wind Speed  \\\n",
       "count  579.000000  579.000000  579.000000  579.000000  579.000000  579.000000   \n",
       "mean    20.262418   17.556269   66.466166   68.238342   46.164076    8.469413   \n",
       "std     33.517924   89.443991   17.159286   22.014509   38.839823    6.217968   \n",
       "min    -54.800000 -179.170000   16.750000    2.000000    0.000000    0.180000   \n",
       "25%     -8.775000  -59.695000   53.180000   59.000000    1.000000    3.555000   \n",
       "50%     24.340000   20.040000   68.000000   73.000000   40.000000    6.930000   \n",
       "75%     48.465000   95.845000   79.325000   84.000000   87.500000   11.410000   \n",
       "max     78.220000  179.320000  111.130000  100.000000  100.000000   48.320000   \n",
       "\n",
       "               Date  \n",
       "count  5.790000e+02  \n",
       "mean   1.600698e+09  \n",
       "std    2.632971e+02  \n",
       "min    1.600697e+09  \n",
       "25%    1.600698e+09  \n",
       "50%    1.600698e+09  \n",
       "75%    1.600698e+09  \n",
       "max    1.600698e+09  "
      ]
     },
     "execution_count": 19,
     "metadata": {},
     "output_type": "execute_result"
    }
   ],
   "source": [
    "weather_data.describe()"
   ]
  },
  {
   "cell_type": "code",
   "execution_count": 44,
   "metadata": {},
   "outputs": [
    {
     "data": {
      "text/html": [
       "<div>\n",
       "<style scoped>\n",
       "    .dataframe tbody tr th:only-of-type {\n",
       "        vertical-align: middle;\n",
       "    }\n",
       "\n",
       "    .dataframe tbody tr th {\n",
       "        vertical-align: top;\n",
       "    }\n",
       "\n",
       "    .dataframe thead th {\n",
       "        text-align: right;\n",
       "    }\n",
       "</style>\n",
       "<table border=\"1\" class=\"dataframe\">\n",
       "  <thead>\n",
       "    <tr style=\"text-align: right;\">\n",
       "      <th></th>\n",
       "      <th>City</th>\n",
       "      <th>Lat</th>\n",
       "      <th>Lng</th>\n",
       "      <th>Max Temp</th>\n",
       "      <th>Humidity</th>\n",
       "      <th>Cloudiness</th>\n",
       "      <th>Wind Speed</th>\n",
       "      <th>Country</th>\n",
       "      <th>Date</th>\n",
       "    </tr>\n",
       "  </thead>\n",
       "  <tbody>\n",
       "  </tbody>\n",
       "</table>\n",
       "</div>"
      ],
      "text/plain": [
       "Empty DataFrame\n",
       "Columns: [City, Lat, Lng, Max Temp, Humidity, Cloudiness, Wind Speed, Country, Date]\n",
       "Index: []"
      ]
     },
     "execution_count": 44,
     "metadata": {},
     "output_type": "execute_result"
    }
   ],
   "source": [
    "outliers = weather_data[weather_data.Humidity > 100]\n",
    "outliers\n",
    "#no cities that have humidity > 100%"
   ]
  },
  {
   "cell_type": "code",
   "execution_count": 58,
   "metadata": {},
   "outputs": [
    {
     "data": {
      "text/html": [
       "<div>\n",
       "<style scoped>\n",
       "    .dataframe tbody tr th:only-of-type {\n",
       "        vertical-align: middle;\n",
       "    }\n",
       "\n",
       "    .dataframe tbody tr th {\n",
       "        vertical-align: top;\n",
       "    }\n",
       "\n",
       "    .dataframe thead th {\n",
       "        text-align: right;\n",
       "    }\n",
       "</style>\n",
       "<table border=\"1\" class=\"dataframe\">\n",
       "  <thead>\n",
       "    <tr style=\"text-align: right;\">\n",
       "      <th></th>\n",
       "      <th>City</th>\n",
       "      <th>Lat</th>\n",
       "      <th>Lng</th>\n",
       "      <th>Max Temp</th>\n",
       "      <th>Humidity</th>\n",
       "      <th>Cloudiness</th>\n",
       "      <th>Wind Speed</th>\n",
       "      <th>Country</th>\n",
       "      <th>Date</th>\n",
       "    </tr>\n",
       "  </thead>\n",
       "  <tbody>\n",
       "    <tr>\n",
       "      <th>0</th>\n",
       "      <td>Kemin</td>\n",
       "      <td>42.78</td>\n",
       "      <td>75.69</td>\n",
       "      <td>61.48</td>\n",
       "      <td>30</td>\n",
       "      <td>0</td>\n",
       "      <td>1.83</td>\n",
       "      <td>KG</td>\n",
       "      <td>1600697527</td>\n",
       "    </tr>\n",
       "    <tr>\n",
       "      <th>1</th>\n",
       "      <td>Winsum</td>\n",
       "      <td>53.33</td>\n",
       "      <td>6.52</td>\n",
       "      <td>73.40</td>\n",
       "      <td>40</td>\n",
       "      <td>0</td>\n",
       "      <td>2.24</td>\n",
       "      <td>NL</td>\n",
       "      <td>1600697923</td>\n",
       "    </tr>\n",
       "    <tr>\n",
       "      <th>2</th>\n",
       "      <td>Tiksi</td>\n",
       "      <td>71.69</td>\n",
       "      <td>128.87</td>\n",
       "      <td>44.76</td>\n",
       "      <td>77</td>\n",
       "      <td>84</td>\n",
       "      <td>12.12</td>\n",
       "      <td>RU</td>\n",
       "      <td>1600697471</td>\n",
       "    </tr>\n",
       "    <tr>\n",
       "      <th>3</th>\n",
       "      <td>Fairbanks</td>\n",
       "      <td>64.84</td>\n",
       "      <td>-147.72</td>\n",
       "      <td>35.01</td>\n",
       "      <td>90</td>\n",
       "      <td>75</td>\n",
       "      <td>2.95</td>\n",
       "      <td>US</td>\n",
       "      <td>1600697703</td>\n",
       "    </tr>\n",
       "    <tr>\n",
       "      <th>4</th>\n",
       "      <td>Hasaki</td>\n",
       "      <td>35.73</td>\n",
       "      <td>140.83</td>\n",
       "      <td>68.00</td>\n",
       "      <td>94</td>\n",
       "      <td>75</td>\n",
       "      <td>6.93</td>\n",
       "      <td>JP</td>\n",
       "      <td>1600697235</td>\n",
       "    </tr>\n",
       "  </tbody>\n",
       "</table>\n",
       "</div>"
      ],
      "text/plain": [
       "        City    Lat     Lng  Max Temp  Humidity  Cloudiness  Wind Speed  \\\n",
       "0      Kemin  42.78   75.69     61.48        30           0        1.83   \n",
       "1     Winsum  53.33    6.52     73.40        40           0        2.24   \n",
       "2      Tiksi  71.69  128.87     44.76        77          84       12.12   \n",
       "3  Fairbanks  64.84 -147.72     35.01        90          75        2.95   \n",
       "4     Hasaki  35.73  140.83     68.00        94          75        6.93   \n",
       "\n",
       "  Country        Date  \n",
       "0      KG  1600697527  \n",
       "1      NL  1600697923  \n",
       "2      RU  1600697471  \n",
       "3      US  1600697703  \n",
       "4      JP  1600697235  "
      ]
     },
     "execution_count": 58,
     "metadata": {},
     "output_type": "execute_result"
    }
   ],
   "source": [
    "clean_city_data = weather_data[weather_data.Humidity <= 100]\n",
    "clean_city_data.head()"
   ]
  },
  {
   "cell_type": "code",
   "execution_count": 52,
   "metadata": {},
   "outputs": [],
   "source": [
    "clean_city_data.to_csv(\"Clean_City.csv\")"
   ]
  },
  {
   "cell_type": "markdown",
   "metadata": {},
   "source": [
    "## Plotting the Data\n",
    "* Use proper labeling of the plots using plot titles (including date of analysis) and axes labels.\n",
    "* Save the plotted figures as .pngs."
   ]
  },
  {
   "cell_type": "markdown",
   "metadata": {},
   "source": [
    "## Latitude vs. Temperature Plot"
   ]
  },
  {
   "cell_type": "code",
   "execution_count": 57,
   "metadata": {},
   "outputs": [
    {
     "data": {
      "image/png": "[encoded data removed]",
      "text/plain": [
       "<Figure size 432x288 with 1 Axes>"
      ]
     },
     "metadata": {
      "needs_background": "light"
     },
     "output_type": "display_data"
    }
   ],
   "source": [
    "plt.scatter(clean_city_data[\"Lat\"], clean_city_data[\"Max Temp\"], marker=\"o\", edgecolor=\"black\")\n",
    "plt.grid(True)\n",
    "plt.title(\"City Latitude vs. Max Temperature (09/20/2020)\")\n",
    "plt.ylabel(\"Max Temperature (F)\")\n",
    "plt.xlabel(\"Latitude\")\n",
    "\n",
    "plt.savefig(\"Latitude_vs_Temperature\")\n",
    "\n",
    "plt.show()"
   ]
  },
  {
   "cell_type": "markdown",
   "metadata": {},
   "source": [
    "## Latitude vs. Humidity Plot"
   ]
  },
  {
   "cell_type": "code",
   "execution_count": 60,
   "metadata": {},
   "outputs": [
    {
     "data": {
      "image/png": "[encoded data removed]",
      "text/plain": [
       "<Figure size 432x288 with 1 Axes>"
      ]
     },
     "metadata": {
      "needs_background": "light"
     },
     "output_type": "display_data"
    }
   ],
   "source": [
    "plt.scatter(clean_city_data[\"Lat\"], clean_city_data[\"Humidity\"], marker=\"o\", edgecolor=\"black\")\n",
    "plt.grid(True)\n",
    "plt.title(\"City Latitude vs. Humidity (09/20/2020)\")\n",
    "plt.ylabel(\"Humidity (%)\")\n",
    "plt.xlabel(\"Latitude\")\n",
    "\n",
    "plt.savefig(\"Latitude_vs_Humidity\")\n",
    "\n",
    "plt.show()"
   ]
  },
  {
   "cell_type": "markdown",
   "metadata": {},
   "source": [
    "## Latitude vs. Cloudiness Plot"
   ]
  },
  {
   "cell_type": "code",
   "execution_count": 61,
   "metadata": {},
   "outputs": [
    {
     "data": {
      "image/png": "[encoded data removed]",
      "text/plain": [
       "<Figure size 432x288 with 1 Axes>"
      ]
     },
     "metadata": {
      "needs_background": "light"
     },
     "output_type": "display_data"
    }
   ],
   "source": [
    "plt.scatter(clean_city_data[\"Lat\"], clean_city_data[\"Cloudiness\"], marker=\"o\", edgecolor=\"black\")\n",
    "plt.grid(True)\n",
    "plt.title(\"City Latitude vs. Cloudiness (09/20/2020)\")\n",
    "plt.ylabel(\"Cloudiness (%)\")\n",
    "plt.xlabel(\"Latitude\")\n",
    "\n",
    "plt.savefig(\"Latitude_vs_Cloudiness\")\n",
    "\n",
    "plt.show()"
   ]
  },
  {
   "cell_type": "markdown",
   "metadata": {},
   "source": [
    "## Latitude vs. Wind Speed Plot"
   ]
  },
  {
   "cell_type": "code",
   "execution_count": 62,
   "metadata": {},
   "outputs": [
    {
     "data": {
      "image/png": "[encoded data removed]",
      "text/plain": [
       "<Figure size 432x288 with 1 Axes>"
      ]
     },
     "metadata": {
      "needs_background": "light"
     },
     "output_type": "display_data"
    }
   ],
   "source": [
    "plt.scatter(clean_city_data[\"Lat\"], clean_city_data[\"Wind Speed\"], marker=\"o\", edgecolor=\"black\")\n",
    "plt.grid(True)\n",
    "plt.title(\"City Latitude vs. Wind Speed (09/20/2020)\")\n",
    "plt.ylabel(\"Wind Speed (mph)\")\n",
    "plt.xlabel(\"Latitude\")\n",
    "\n",
    "plt.savefig(\"Latitude_vs_Wind_Speed\")\n",
    "\n",
    "plt.show()"
   ]
  },
  {
   "cell_type": "markdown",
   "metadata": {},
   "source": [
    "## Linear Regression"
   ]
  },
  {
   "cell_type": "code",
   "execution_count": 65,
   "metadata": {},
   "outputs": [],
   "source": [
    "# Create Northern and Southern Hemisphere DataFrames\n",
    "north_hem = clean_city_data.loc[clean_city_data[\"Lat\"] >= 0]\n",
    "south_hem = clean_city_data.loc[clean_city_data[\"Lat\"] < 0]"
   ]
  },
  {
   "cell_type": "markdown",
   "metadata": {},
   "source": [
    "####  Northern Hemisphere - Max Temp vs. Latitude Linear Regression"
   ]
  },
  {
   "cell_type": "code",
   "execution_count": 94,
   "metadata": {},
   "outputs": [],
   "source": [
    "#OPTIONAL: Create a function to create Linear Regression plots\n",
    "def linear_regression(x_values, y_values):\n",
    "    (slope, intercept, rvalue, pvalue, stderr) = linregress(x_values, y_values)\n",
    "    regress_values = x_values * slope + intercept\n",
    "    line_eq = \"y = \" + str(round(slope,2)) + \"x + \" + str(round(intercept,2))\n",
    "    plt.scatter(x_values,y_values)\n",
    "    plt.plot(x_values,regress_values,\"r-\")\n",
    "    plt.annotate(line_eq,xy=(0.2, 0.9), xycoords='axes fraction', fontsize=15, color=\"red\")\n",
    "    print(f\"The r-square is: {round(rvalue**2,2)}\")"
   ]
  },
  {
   "cell_type": "code",
   "execution_count": 99,
   "metadata": {},
   "outputs": [
    {
     "name": "stdout",
     "output_type": "stream",
     "text": [
      "The r-square is: 0.67\n"
     ]
    },
    {
     "data": {
      "image/png": "[encoded data removed]",
      "text/plain": [
       "<Figure size 432x288 with 1 Axes>"
      ]
     },
     "metadata": {
      "needs_background": "light"
     },
     "output_type": "display_data"
    }
   ],
   "source": [
    "linear_regression(north_hem[\"Lat\"], north_hem[\"Max Temp\"])\n",
    "plt.xlabel(\"Latitude\")\n",
    "plt.ylabel(\"Max Temp\")\n",
    "\n",
    "plt.savefig(\"latitude_temp_north\")\n",
    "plt.show()"
   ]
  },
  {
   "cell_type": "markdown",
   "metadata": {},
   "source": [
    "####  Southern Hemisphere - Max Temp vs. Latitude Linear Regression"
   ]
  },
  {
   "cell_type": "code",
   "execution_count": 100,
   "metadata": {},
   "outputs": [
    {
     "name": "stdout",
     "output_type": "stream",
     "text": [
      "The r-square is: 0.57\n"
     ]
    },
    {
     "data": {
      "image/png": "[encoded data removed]",
      "text/plain": [
       "<Figure size 432x288 with 1 Axes>"
      ]
     },
     "metadata": {
      "needs_background": "light"
     },
     "output_type": "display_data"
    }
   ],
   "source": [
    "linear_regression(south_hem[\"Lat\"], south_hem[\"Max Temp\"])\n",
    "plt.xlabel(\"Latitude\")\n",
    "plt.ylabel(\"Max Temp\")\n",
    "\n",
    "plt.savefig(\"latitude_temp_south\")\n",
    "plt.show()"
   ]
  },
  {
   "cell_type": "markdown",
   "metadata": {},
   "source": [
    "####  Northern Hemisphere - Humidity (%) vs. Latitude Linear Regression"
   ]
  },
  {
   "cell_type": "code",
   "execution_count": 101,
   "metadata": {},
   "outputs": [
    {
     "name": "stdout",
     "output_type": "stream",
     "text": [
      "The r-square is: 0.02\n"
     ]
    },
    {
     "data": {
      "image/png": "[encoded data removed]",
      "text/plain": [
       "<Figure size 432x288 with 1 Axes>"
      ]
     },
     "metadata": {
      "needs_background": "light"
     },
     "output_type": "display_data"
    }
   ],
   "source": [
    "linear_regression(north_hem[\"Lat\"], north_hem[\"Humidity\"])\n",
    "plt.xlabel(\"Latitude\")\n",
    "plt.ylabel(\"Humidity\")\n",
    "\n",
    "plt.savefig(\"latitude_humidity_north\")\n",
    "plt.show()"
   ]
  },
  {
   "cell_type": "markdown",
   "metadata": {},
   "source": [
    "####  Southern Hemisphere - Humidity (%) vs. Latitude Linear Regression"
   ]
  },
  {
   "cell_type": "code",
   "execution_count": 102,
   "metadata": {},
   "outputs": [
    {
     "name": "stdout",
     "output_type": "stream",
     "text": [
      "The r-square is: 0.0\n"
     ]
    },
    {
     "data": {
      "image/png": "[encoded data removed]",
      "text/plain": [
       "<Figure size 432x288 with 1 Axes>"
      ]
     },
     "metadata": {
      "needs_background": "light"
     },
     "output_type": "display_data"
    }
   ],
   "source": [
    "linear_regression(south_hem[\"Lat\"], south_hem[\"Humidity\"])\n",
    "plt.xlabel(\"Latitude\")\n",
    "plt.ylabel(\"Humidity\")\n",
    "\n",
    "plt.savefig(\"latitude_humidity_south\")\n",
    "plt.show()"
   ]
  },
  {
   "cell_type": "markdown",
   "metadata": {},
   "source": [
    "####  Northern Hemisphere - Cloudiness (%) vs. Latitude Linear Regression"
   ]
  },
  {
   "cell_type": "code",
   "execution_count": 103,
   "metadata": {},
   "outputs": [
    {
     "name": "stdout",
     "output_type": "stream",
     "text": [
      "The r-square is: 0.0\n"
     ]
    },
    {
     "data": {
      "image/png": "[encoded data removed]",
      "text/plain": [
       "<Figure size 432x288 with 1 Axes>"
      ]
     },
     "metadata": {
      "needs_background": "light"
     },
     "output_type": "display_data"
    }
   ],
   "source": [
    "linear_regression(north_hem[\"Lat\"], north_hem[\"Cloudiness\"])\n",
    "plt.xlabel(\"Latitude\")\n",
    "plt.ylabel(\"Cloudiness\")\n",
    "\n",
    "plt.savefig(\"latitude_cloudiness_north\")\n",
    "plt.show()"
   ]
  },
  {
   "cell_type": "markdown",
   "metadata": {},
   "source": [
    "####  Southern Hemisphere - Cloudiness (%) vs. Latitude Linear Regression"
   ]
  },
  {
   "cell_type": "code",
   "execution_count": 104,
   "metadata": {},
   "outputs": [
    {
     "name": "stdout",
     "output_type": "stream",
     "text": [
      "The r-square is: 0.07\n"
     ]
    },
    {
     "data": {
      "image/png": "[encoded data removed]",
      "text/plain": [
       "<Figure size 432x288 with 1 Axes>"
      ]
     },
     "metadata": {
      "needs_background": "light"
     },
     "output_type": "display_data"
    }
   ],
   "source": [
    "linear_regression(south_hem[\"Lat\"], south_hem[\"Cloudiness\"])\n",
    "plt.xlabel(\"Latitude\")\n",
    "plt.ylabel(\"Cloudiness\")\n",
    "\n",
    "plt.savefig(\"latitude_cloudiness_south\")\n",
    "plt.show()"
   ]
  },
  {
   "cell_type": "markdown",
   "metadata": {},
   "source": [
    "####  Northern Hemisphere - Wind Speed (mph) vs. Latitude Linear Regression"
   ]
  },
  {
   "cell_type": "code",
   "execution_count": 105,
   "metadata": {},
   "outputs": [
    {
     "name": "stdout",
     "output_type": "stream",
     "text": [
      "The r-square is: 0.02\n"
     ]
    },
    {
     "data": {
      "image/png": "[encoded data removed]",
      "text/plain": [
       "<Figure size 432x288 with 1 Axes>"
      ]
     },
     "metadata": {
      "needs_background": "light"
     },
     "output_type": "display_data"
    }
   ],
   "source": [
    "linear_regression(north_hem[\"Lat\"], north_hem[\"Wind Speed\"])\n",
    "plt.xlabel(\"Latitude\")\n",
    "plt.ylabel(\"Wind Speed\")\n",
    "\n",
    "plt.savefig(\"latitude_wind_north\")\n",
    "plt.show()"
   ]
  },
  {
   "cell_type": "markdown",
   "metadata": {},
   "source": [
    "####  Southern Hemisphere - Wind Speed (mph) vs. Latitude Linear Regression"
   ]
  },
  {
   "cell_type": "code",
   "execution_count": 106,
   "metadata": {},
   "outputs": [
    {
     "name": "stdout",
     "output_type": "stream",
     "text": [
      "The r-square is: 0.01\n"
     ]
    },
    {
     "data": {
      "image/png": "[encoded data removed]",
      "text/plain": [
       "<Figure size 432x288 with 1 Axes>"
      ]
     },
     "metadata": {
      "needs_background": "light"
     },
     "output_type": "display_data"
    }
   ],
   "source": [
    "linear_regression(south_hem[\"Lat\"], south_hem[\"Wind Speed\"])\n",
    "plt.xlabel(\"Latitude\")\n",
    "plt.ylabel(\"Wind Speed\")\n",
    "\n",
    "plt.savefig(\"latitude_wind_south\")\n",
    "plt.show()"
   ]
  },
  {
   "cell_type": "markdown",
   "metadata": {},
   "source": [
    "# Observation"
   ]
  },
  {
   "cell_type": "markdown",
   "metadata": {},
   "source": [
    "* Latitude is correlated with max temperature (as letitude goes further from 0, max temperature decreases).\n",
    "* Latitude is not really correlated with humidity.\n",
    "* Latitude is not really correlated with cloudiness.\n",
    "* Latitude is not really correlated with wind Speed."
   ]
  }
 ],
 "metadata": {
  "anaconda-cloud": {},
  "kernel_info": {
   "name": "python3"
  },
  "kernelspec": {
   "display_name": "Python 3",
   "language": "python",
   "name": "python3"
  },
  "language_info": {
   "codemirror_mode": {
    "name": "ipython",
    "version": 3
   },
   "file_extension": ".py",
   "mimetype": "text/x-python",
   "name": "python",
   "nbconvert_exporter": "python",
   "pygments_lexer": "ipython3",
   "version": "3.7.6"
  },
  "latex_envs": {
   "LaTeX_envs_menu_present": true,
   "autoclose": false,
   "autocomplete": true,
   "bibliofile": "biblio.bib",
   "cite_by": "apalike",
   "current_citInitial": 1,
   "eqLabelWithNumbers": true,
   "eqNumInitial": 1,
   "hotkeys": {
    "equation": "Ctrl-E",
    "itemize": "Ctrl-I"
   },
   "labels_anchors": false,
   "latex_user_defs": false,
   "report_style_numbering": false,
   "user_envs_cfg": false
  },
  "nteract": {
   "version": "0.12.3"
  }
 },
 "nbformat": 4,
 "nbformat_minor": 2
}
