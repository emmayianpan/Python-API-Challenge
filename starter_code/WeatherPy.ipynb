{
 "cells": [
  {
   "cell_type": "markdown",
   "metadata": {},
   "source": [
    "# WeatherPy\n",
    "----\n",
    "\n",
    "#### Note\n",
    "* Instructions have been included for each segment. You do not have to follow them exactly, but they are included to help you think through the steps."
   ]
  },
  {
   "cell_type": "code",
   "execution_count": 1,
   "metadata": {
    "scrolled": true
   },
   "outputs": [],
   "source": [
    "# Dependencies and Setup\n",
    "import matplotlib.pyplot as plt\n",
    "import pandas as pd\n",
    "import numpy as np\n",
    "import requests\n",
    "import time\n",
    "from scipy.stats import linregress\n",
    "from pprint import pprint \n",
    "\n",
    "# Import API key\n",
    "from api_keys import weather_api_key\n",
    "\n",
    "# Incorporated citipy to determine city based on latitude and longitude\n",
    "from citipy import citipy\n",
    "\n",
    "# Output File (CSV)\n",
    "output_data_file = \"output_data/cities.csv\"\n",
    "\n",
    "# Range of latitudes and longitudes\n",
    "lat_range = (-90, 90)\n",
    "lng_range = (-180, 180)"
   ]
  },
  {
   "cell_type": "markdown",
   "metadata": {},
   "source": [
    "## Generate Cities List"
   ]
  },
  {
   "cell_type": "code",
   "execution_count": 2,
   "metadata": {},
   "outputs": [
    {
     "data": {
      "text/plain": [
       "620"
      ]
     },
     "execution_count": 2,
     "metadata": {},
     "output_type": "execute_result"
    }
   ],
   "source": [
    "# List for holding lat_lngs and cities\n",
    "lat_lngs = []\n",
    "cities = []\n",
    "\n",
    "# Create a set of random lat and lng combinations\n",
    "lats = np.random.uniform(lat_range[0], lat_range[1], size=1500)\n",
    "lngs = np.random.uniform(lng_range[0], lng_range[1], size=1500)\n",
    "lat_lngs = zip(lats, lngs)\n",
    "\n",
    "# Identify nearest city for each lat, lng combination\n",
    "for lat_lng in lat_lngs:\n",
    "    city = citipy.nearest_city(lat_lng[0], lat_lng[1]).city_name\n",
    "    \n",
    "    # If the city is unique, then add it to a our cities list\n",
    "    if city not in cities:\n",
    "        cities.append(city)\n",
    "\n",
    "# Print the city count to confirm sufficient count\n",
    "len(cities)"
   ]
  },
  {
   "cell_type": "markdown",
   "metadata": {},
   "source": [
    "### Perform API Calls\n",
    "* Perform a weather check on each city using a series of successive API calls.\n",
    "* Include a print log of each city as it'sbeing processed (with the city number and city name).\n"
   ]
  },
  {
   "cell_type": "code",
   "execution_count": 3,
   "metadata": {},
   "outputs": [],
   "source": [
    "url = \"https://api.openweathermap.org/data/2.5/weather?\"\n",
    "units=\"imperial\"\n",
    "query = f\"{url}appid={weather_api_key}&units={units}&q=\"\n",
    "#print(query)"
   ]
  },
  {
   "cell_type": "code",
   "execution_count": 4,
   "metadata": {},
   "outputs": [],
   "source": [
    "#Example:Paris\n",
    "ex_city = \"paris\"\n",
    "ex_query = query + ex_city \n",
    "#print(ex_query)\n",
    "#response = requests.get(ex_query).json()\n",
    "#pprint(response)"
   ]
  },
  {
   "cell_type": "code",
   "execution_count": 5,
   "metadata": {},
   "outputs": [
    {
     "name": "stdout",
     "output_type": "stream",
     "text": [
      "Beginning Data Retrieval\n",
      "-----------------------------\n",
      "Processing Record 1: atuona\n",
      "Processing Record 2: puerto ayora\n",
      "Processing Record 3: dingle\n",
      "Processing Record 4: east london\n",
      "Processing Record 5: ponta do sol\n",
      "Processing Record 6: paka\n",
      "Processing Record 7: portland\n",
      "Processing Record 8: busselton\n",
      "Processing Record 9: abha\n",
      "Processing Record 10: alice springs\n",
      "Processing Record 11: cape town\n",
      "Processing Record 12: rikitea\n",
      "Processing Record 13: hobart\n",
      "Processing Record 14: severnyy\n",
      "Processing Record 15: qaanaaq\n",
      "Processing Record 16: bluff\n",
      "Processing Record 17: cherskiy\n",
      "Processing Record 18: esperance\n",
      "Processing Record 19: keetmanshoop\n",
      "Processing Record 20: tuktoyaktuk\n",
      "Processing Record 21: gladstone\n",
      "Processing Record 22: mahebourg\n",
      "Processing Record 23: muros\n",
      "Processing Record 24: gobabis\n",
      "Processing Record 25: arraial do cabo\n",
      "Processing Record 26: albany\n",
      "Processing Record 27: carnarvon\n",
      "Processing Record 28: ushuaia\n",
      "Processing Record 29: lagoa\n",
      "Processing Record 30: tasiilaq\n",
      "City not found. Skipping...\n",
      "Processing Record 31: vaini\n",
      "Processing Record 32: nemuro\n",
      "City not found. Skipping...\n",
      "Processing Record 33: sitka\n",
      "Processing Record 34: faanui\n",
      "Processing Record 35: lebu\n",
      "Processing Record 36: mataura\n",
      "Processing Record 37: avarua\n",
      "Processing Record 38: shingu\n",
      "Processing Record 39: mount gambier\n",
      "Processing Record 40: shenjiamen\n",
      "Processing Record 41: jamestown\n",
      "Processing Record 42: bambous virieux\n",
      "Processing Record 43: punta arenas\n",
      "Processing Record 44: hualmay\n",
      "Processing Record 45: yellowknife\n",
      "Processing Record 46: saskylakh\n",
      "City not found. Skipping...\n",
      "Processing Record 47: chagoda\n",
      "Processing Record 48: mana\n",
      "Processing Record 49: alakurtti\n",
      "Processing Record 50: saint-pierre\n",
      "Processing Record 51: rawson\n",
      "Processing Record 52: alofi\n",
      "Processing Record 53: barrow\n",
      "Processing Record 54: srednekolymsk\n",
      "Processing Record 55: dikson\n",
      "Processing Record 56: lavrentiya\n",
      "Processing Record 57: edremit\n",
      "Processing Record 58: itaituba\n",
      "Processing Record 59: grand gaube\n",
      "Processing Record 60: buraydah\n",
      "Processing Record 61: tortoli\n",
      "Processing Record 62: kaitangata\n",
      "Processing Record 63: visby\n",
      "Processing Record 64: archidona\n",
      "Processing Record 65: talnakh\n",
      "Processing Record 66: upernavik\n",
      "Processing Record 67: broome\n",
      "Processing Record 68: muzhi\n",
      "Processing Record 69: new norfolk\n",
      "Processing Record 70: hermanus\n",
      "Processing Record 71: tateyama\n",
      "Processing Record 72: serik\n",
      "Processing Record 73: stanger\n",
      "Processing Record 74: roma\n",
      "Processing Record 75: kapaa\n",
      "Processing Record 76: caravelas\n",
      "Processing Record 77: shimoda\n",
      "Processing Record 78: ribeira grande\n",
      "Processing Record 79: port alfred\n",
      "Processing Record 80: mar del plata\n",
      "Processing Record 81: thinadhoo\n",
      "Processing Record 82: campos novos\n",
      "Processing Record 83: lompoc\n",
      "Processing Record 84: ransang\n",
      "Processing Record 85: yar-sale\n",
      "Processing Record 86: husavik\n",
      "Processing Record 87: dzerzhinsk\n",
      "Processing Record 88: khatanga\n",
      "Processing Record 89: dawlatabad\n",
      "City not found. Skipping...\n",
      "Processing Record 90: narsaq\n",
      "Processing Record 91: astaneh-ye ashrafiyeh\n",
      "Processing Record 92: cabo san lucas\n",
      "Processing Record 93: butaritari\n",
      "Processing Record 94: meulaboh\n",
      "Processing Record 95: bitburg\n",
      "Processing Record 96: san juan\n",
      "Processing Record 97: sri aman\n",
      "Processing Record 98: havre-saint-pierre\n",
      "Processing Record 99: ahuimanu\n",
      "City not found. Skipping...\n",
      "Processing Record 100: jalu\n",
      "Processing Record 101: la orilla\n",
      "Processing Record 102: hilo\n",
      "Processing Record 103: kodiak\n",
      "Processing Record 104: kaka\n",
      "Processing Record 105: goba\n",
      "City not found. Skipping...\n",
      "Processing Record 106: port hardy\n",
      "Processing Record 107: sosnovo-ozerskoye\n",
      "Processing Record 108: tignere\n",
      "Processing Record 109: iqaluit\n",
      "Processing Record 110: victoria\n",
      "Processing Record 111: castro\n",
      "Processing Record 112: spring valley\n",
      "Processing Record 113: naze\n",
      "City not found. Skipping...\n",
      "City not found. Skipping...\n",
      "Processing Record 114: kaduqli\n",
      "Processing Record 115: kuzhorskaya\n",
      "Processing Record 116: puerto escondido\n",
      "Processing Record 117: fortuna\n",
      "Processing Record 118: flagstaff\n",
      "Processing Record 119: san patricio\n",
      "Processing Record 120: makurdi\n",
      "Processing Record 121: saint-philippe\n",
      "Processing Record 122: mandalgovi\n",
      "Processing Record 123: seymchan\n",
      "Processing Record 124: vilyuysk\n",
      "Processing Record 125: lukoyanov\n",
      "Processing Record 126: dubbo\n",
      "Processing Record 127: vila velha\n",
      "City not found. Skipping...\n",
      "Processing Record 128: berlevag\n",
      "Processing Record 129: opuwo\n",
      "Processing Record 130: tokur\n",
      "Processing Record 131: flinders\n",
      "Processing Record 132: biltine\n",
      "Processing Record 133: mountain home\n",
      "Processing Record 134: hithadhoo\n",
      "Processing Record 135: chokurdakh\n",
      "Processing Record 136: olafsvik\n",
      "City not found. Skipping...\n",
      "City not found. Skipping...\n",
      "City not found. Skipping...\n",
      "Processing Record 137: tiksi\n",
      "City not found. Skipping...\n",
      "Processing Record 138: shebalino\n",
      "Processing Record 139: bengkulu\n",
      "Processing Record 140: japura\n",
      "Processing Record 141: annau\n",
      "Processing Record 142: tual\n",
      "Processing Record 143: hasaki\n",
      "Processing Record 144: pisco\n",
      "Processing Record 145: maymyo\n",
      "Processing Record 146: kailua\n",
      "Processing Record 147: maua\n",
      "Processing Record 148: klaksvik\n",
      "Processing Record 149: tadine\n",
      "Processing Record 150: airai\n",
      "Processing Record 151: ostrovnoy\n",
      "Processing Record 152: yerbogachen\n",
      "Processing Record 153: bredasdorp\n",
      "Processing Record 154: vredendal\n",
      "City not found. Skipping...\n",
      "City not found. Skipping...\n",
      "Processing Record 155: praxedis guerrero\n",
      "Processing Record 156: puebloviejo\n",
      "Processing Record 157: hambantota\n",
      "Processing Record 158: anadyr\n",
      "Processing Record 159: igrim\n",
      "Processing Record 160: batagay\n",
      "Processing Record 161: ambah\n",
      "Processing Record 162: kununurra\n",
      "Processing Record 163: togitsu\n",
      "Processing Record 164: russell\n",
      "City not found. Skipping...\n",
      "Processing Record 165: vanavara\n",
      "City not found. Skipping...\n",
      "Processing Record 166: lorengau\n",
      "Processing Record 167: bairnsdale\n",
      "Processing Record 168: te anau\n",
      "Processing Record 169: xingyi\n",
      "Processing Record 170: kudahuvadhoo\n",
      "Processing Record 171: nyurba\n",
      "City not found. Skipping...\n",
      "Processing Record 172: morros\n",
      "Processing Record 173: san agustin\n",
      "Processing Record 174: thompson\n",
      "Processing Record 175: vostok\n",
      "Processing Record 176: puksoozero\n",
      "Processing Record 177: alta floresta\n",
      "Processing Record 178: ambon\n",
      "Processing Record 179: isangel\n",
      "Processing Record 180: porto santo\n",
      "Processing Record 181: severobaykalsk\n",
      "Processing Record 182: vao\n",
      "Processing Record 183: yenagoa\n",
      "Processing Record 184: ilulissat\n",
      "City not found. Skipping...\n",
      "Processing Record 185: guerrero negro\n",
      "Processing Record 186: huntsville\n",
      "Processing Record 187: whitecourt\n",
      "Processing Record 188: dunedin\n",
      "Processing Record 189: brownsville\n",
      "Processing Record 190: barra do garcas\n",
      "Processing Record 191: mirnyy\n",
      "Processing Record 192: san cristobal\n",
      "City not found. Skipping...\n",
      "Processing Record 193: nikolskoye\n",
      "Processing Record 194: souillac\n",
      "Processing Record 195: linjiang\n",
      "Processing Record 196: mezhdurechenskiy\n",
      "Processing Record 197: norman wells\n",
      "Processing Record 198: seoul\n",
      "Processing Record 199: cayenne\n",
      "Processing Record 200: margate\n",
      "Processing Record 201: port lincoln\n",
      "Processing Record 202: mehamn\n",
      "Processing Record 203: georgetown\n",
      "Processing Record 204: severo-kurilsk\n",
      "Processing Record 205: bure\n",
      "Processing Record 206: necochea\n",
      "Processing Record 207: katsuura\n",
      "Processing Record 208: ahipara\n",
      "Processing Record 209: villazon\n",
      "Processing Record 210: kasane\n",
      "Processing Record 211: baoqing\n",
      "Processing Record 212: sola\n",
      "Processing Record 213: saint george\n",
      "Processing Record 214: oakdale\n",
      "Processing Record 215: ancud\n",
      "Processing Record 216: kuandian\n",
      "City not found. Skipping...\n",
      "Processing Record 217: abu dhabi\n",
      "City not found. Skipping...\n",
      "City not found. Skipping...\n",
      "Processing Record 218: clyde river\n",
      "Processing Record 219: kavieng\n",
      "Processing Record 220: kruisfontein\n",
      "Processing Record 221: college\n",
      "Processing Record 222: gao\n",
      "Processing Record 223: ponta delgada\n",
      "City not found. Skipping...\n",
      "Processing Record 224: primorsk\n",
      "Processing Record 225: xining\n",
      "Processing Record 226: albina\n",
      "Processing Record 227: puerto colombia\n",
      "Processing Record 228: port elizabeth\n",
      "Processing Record 229: dezful\n",
      "Processing Record 230: mount isa\n",
      "Processing Record 231: mufulira\n",
      "Processing Record 232: zhigansk\n",
      "Processing Record 233: hamilton\n",
      "Processing Record 234: ruston\n"
     ]
    },
    {
     "name": "stdout",
     "output_type": "stream",
     "text": [
      "City not found. Skipping...\n",
      "City not found. Skipping...\n",
      "Processing Record 235: cockburn town\n",
      "Processing Record 236: hun\n",
      "Processing Record 237: north platte\n",
      "Processing Record 238: ketchikan\n",
      "Processing Record 239: makakilo city\n",
      "City not found. Skipping...\n",
      "Processing Record 240: marfino\n",
      "Processing Record 241: ambilobe\n",
      "Processing Record 242: pfarrkirchen\n",
      "Processing Record 243: obo\n",
      "City not found. Skipping...\n",
      "Processing Record 244: carauari\n",
      "Processing Record 245: bethel\n",
      "Processing Record 246: pevek\n",
      "Processing Record 247: zurrieq\n",
      "Processing Record 248: torbay\n",
      "Processing Record 249: koslan\n",
      "Processing Record 250: amga\n",
      "City not found. Skipping...\n",
      "Processing Record 251: erzin\n",
      "Processing Record 252: weiser\n",
      "Processing Record 253: onguday\n",
      "Processing Record 254: mastic beach\n",
      "Processing Record 255: walvis bay\n",
      "Processing Record 256: broken hill\n",
      "Processing Record 257: huarmey\n",
      "City not found. Skipping...\n",
      "Processing Record 258: kahului\n",
      "Processing Record 259: benguela\n",
      "Processing Record 260: puerto rico\n",
      "City not found. Skipping...\n",
      "City not found. Skipping...\n",
      "Processing Record 261: khandyga\n",
      "City not found. Skipping...\n",
      "Processing Record 262: turukhansk\n",
      "Processing Record 263: eureka\n",
      "Processing Record 264: cabra\n",
      "Processing Record 265: ribe\n",
      "Processing Record 266: gold coast\n",
      "Processing Record 267: karasjok\n",
      "Processing Record 268: gorontalo\n",
      "Processing Record 269: sinnamary\n",
      "Processing Record 270: veinticinco de mayo\n",
      "Processing Record 271: bagua grande\n",
      "Processing Record 272: longyearbyen\n",
      "Processing Record 273: namie\n",
      "Processing Record 274: esso\n",
      "Processing Record 275: yakima\n",
      "Processing Record 276: itarantim\n",
      "Processing Record 277: faya\n",
      "Processing Record 278: ust-tsilma\n",
      "City not found. Skipping...\n",
      "Processing Record 279: mutoko\n",
      "Processing Record 280: yermekeyevo\n",
      "Processing Record 281: byron bay\n",
      "Processing Record 282: sabzevar\n",
      "Processing Record 283: deputatskiy\n",
      "Processing Record 284: arlit\n",
      "Processing Record 285: wadi maliz\n",
      "Processing Record 286: rudnaya pristan\n",
      "Processing Record 287: semey\n",
      "City not found. Skipping...\n",
      "Processing Record 288: mabaruma\n",
      "Processing Record 289: talagante\n",
      "Processing Record 290: ambatondrazaka\n",
      "Processing Record 291: rabo de peixe\n",
      "Processing Record 292: pedernales\n",
      "Processing Record 293: limon\n",
      "City not found. Skipping...\n",
      "Processing Record 294: nicoya\n",
      "Processing Record 295: ballina\n",
      "City not found. Skipping...\n",
      "Processing Record 296: morgan city\n",
      "Processing Record 297: lokosovo\n",
      "Processing Record 298: huesca\n",
      "Processing Record 299: avera\n",
      "Processing Record 300: camopi\n",
      "Processing Record 301: vrangel\n",
      "Processing Record 302: great falls\n",
      "Processing Record 303: chuy\n",
      "Processing Record 304: miri\n",
      "Processing Record 305: rognan\n",
      "Processing Record 306: coihaique\n",
      "Processing Record 307: vila franca do campo\n",
      "Processing Record 308: labuhan\n",
      "Processing Record 309: fairbanks\n",
      "Processing Record 310: bam\n",
      "Processing Record 311: namatanai\n",
      "Processing Record 312: dedza\n",
      "City not found. Skipping...\n",
      "Processing Record 313: sakakah\n",
      "Processing Record 314: uzunovo\n",
      "Processing Record 315: tamandare\n",
      "Processing Record 316: itoman\n",
      "Processing Record 317: hvolsvollur\n",
      "Processing Record 318: saint leonard\n",
      "Processing Record 319: ojinaga\n",
      "Processing Record 320: kilrush\n",
      "Processing Record 321: noratus\n",
      "Processing Record 322: harper\n",
      "Processing Record 323: ajdabiya\n",
      "Processing Record 324: kieta\n",
      "Processing Record 325: puqi\n",
      "Processing Record 326: doha\n",
      "Processing Record 327: morondava\n",
      "City not found. Skipping...\n",
      "Processing Record 328: iwaki\n",
      "Processing Record 329: magalia\n",
      "Processing Record 330: sur\n",
      "Processing Record 331: palu\n",
      "Processing Record 332: whitianga\n",
      "Processing Record 333: tagusao\n",
      "Processing Record 334: jardim do serido\n",
      "Processing Record 335: haines junction\n",
      "Processing Record 336: mumford\n",
      "Processing Record 337: belaya gora\n",
      "Processing Record 338: provideniya\n",
      "Processing Record 339: dukat\n",
      "Processing Record 340: sioux lookout\n",
      "Processing Record 341: karratha\n",
      "Processing Record 342: darhan\n",
      "Processing Record 343: areosa\n",
      "Processing Record 344: praia\n",
      "Processing Record 345: stettler\n",
      "Processing Record 346: nchelenge\n",
      "Processing Record 347: samarai\n",
      "Processing Record 348: groningen\n",
      "Processing Record 349: roura\n",
      "Processing Record 350: dzhebariki-khaya\n",
      "Processing Record 351: fairlie\n",
      "Processing Record 352: ghanzi\n",
      "Processing Record 353: gryazovets\n",
      "Processing Record 354: bathsheba\n",
      "Processing Record 355: lock haven\n",
      "Processing Record 356: bontang\n",
      "Processing Record 357: kuvshinovo\n",
      "Processing Record 358: yulara\n",
      "Processing Record 359: sao jose da coroa grande\n",
      "Processing Record 360: baiyin\n",
      "Processing Record 361: lexington\n",
      "Processing Record 362: sarreguemines\n",
      "Processing Record 363: abu samrah\n",
      "Processing Record 364: atar\n",
      "City not found. Skipping...\n",
      "Processing Record 365: nouadhibou\n",
      "Processing Record 366: puerto del rosario\n",
      "Processing Record 367: yakeshi\n",
      "Processing Record 368: asau\n",
      "Processing Record 369: sovetskiy\n",
      "Processing Record 370: atambua\n",
      "Processing Record 371: cidreira\n",
      "Processing Record 372: lata\n",
      "Processing Record 373: marawi\n",
      "Processing Record 374: port moresby\n",
      "Processing Record 375: rafaela\n",
      "Processing Record 376: tommot\n",
      "Processing Record 377: pitiquito\n",
      "City not found. Skipping...\n",
      "Processing Record 378: manadhoo\n",
      "Processing Record 379: simpang\n",
      "Processing Record 380: baruun-urt\n",
      "Processing Record 381: sao filipe\n",
      "Processing Record 382: tomatlan\n",
      "Processing Record 383: padang\n",
      "Processing Record 384: collie\n",
      "Processing Record 385: touros\n",
      "City not found. Skipping...\n",
      "Processing Record 386: kitimat\n",
      "Processing Record 387: krotovka\n",
      "Processing Record 388: pingliang\n",
      "Processing Record 389: woodward\n",
      "Processing Record 390: beidao\n",
      "Processing Record 391: tuatapere\n",
      "Processing Record 392: oktyabrskoye\n",
      "Processing Record 393: north bend\n",
      "Processing Record 394: lubango\n",
      "Processing Record 395: ferrol\n",
      "Processing Record 396: siocon\n",
      "Processing Record 397: thoen\n",
      "Processing Record 398: tilichiki\n",
      "Processing Record 399: bardiyah\n",
      "Processing Record 400: matay\n",
      "Processing Record 401: lawrenceburg\n",
      "Processing Record 402: uvalde\n",
      "City not found. Skipping...\n",
      "City not found. Skipping...\n",
      "Processing Record 403: santa rosalia\n",
      "Processing Record 404: ulsteinvik\n",
      "Processing Record 405: neuquen\n",
      "Processing Record 406: kristiinankaupunki\n",
      "City not found. Skipping...\n",
      "Processing Record 407: emba\n",
      "Processing Record 408: athabasca\n",
      "City not found. Skipping...\n",
      "Processing Record 409: logan lake\n",
      "Processing Record 410: artyom\n",
      "Processing Record 411: ornskoldsvik\n",
      "Processing Record 412: tura\n",
      "Processing Record 413: muborak\n",
      "Processing Record 414: kijang\n",
      "Processing Record 415: hovd\n",
      "City not found. Skipping...\n",
      "Processing Record 416: qaqortoq\n",
      "City not found. Skipping...\n",
      "Processing Record 417: kavaratti\n",
      "Processing Record 418: sangar\n",
      "Processing Record 419: fort nelson\n",
      "Processing Record 420: riverton\n",
      "Processing Record 421: el congo\n",
      "Processing Record 422: blagoyevo\n",
      "Processing Record 423: vardo\n",
      "Processing Record 424: tonneins\n",
      "Processing Record 425: gualaquiza\n",
      "Processing Record 426: chicama\n",
      "Processing Record 427: shelburne\n",
      "Processing Record 428: nizhniy kuranakh\n",
      "Processing Record 429: bambanglipuro\n",
      "Processing Record 430: bazarnyye mataki\n",
      "Processing Record 431: zhengjiatun\n",
      "Processing Record 432: zelenogradsk\n",
      "Processing Record 433: grindavik\n",
      "Processing Record 434: aklavik\n",
      "City not found. Skipping...\n",
      "Processing Record 435: hazorasp\n",
      "City not found. Skipping...\n",
      "Processing Record 436: kandrian\n",
      "Processing Record 437: los llanos de aridane\n",
      "Processing Record 438: pangnirtung\n",
      "Processing Record 439: tanggu\n",
      "Processing Record 440: caxito\n",
      "Processing Record 441: codrington\n",
      "Processing Record 442: parker\n",
      "Processing Record 443: palau\n",
      "Processing Record 444: mazara del vallo\n",
      "Processing Record 445: oistins\n",
      "Processing Record 446: altona\n",
      "Processing Record 447: baculin\n",
      "Processing Record 448: coruripe\n",
      "Processing Record 449: dourbali\n",
      "Processing Record 450: kenai\n",
      "Processing Record 451: urucara\n",
      "Processing Record 452: gat\n",
      "Processing Record 453: olga\n",
      "Processing Record 454: beloha\n",
      "Processing Record 455: santa marta\n",
      "Processing Record 456: rongcheng\n",
      "Processing Record 457: songea\n",
      "Processing Record 458: paso de los toros\n",
      "Processing Record 459: shirokaya rechka\n",
      "Processing Record 460: bowen\n",
      "Processing Record 461: foz\n",
      "Processing Record 462: urumqi\n",
      "Processing Record 463: petropavlovsk-kamchatskiy\n",
      "City not found. Skipping...\n",
      "City not found. Skipping...\n"
     ]
    },
    {
     "name": "stdout",
     "output_type": "stream",
     "text": [
      "Processing Record 464: raudeberg\n",
      "Processing Record 465: lombardia\n",
      "Processing Record 466: guayaramerin\n",
      "Processing Record 467: placido de castro\n",
      "Processing Record 468: hervey bay\n",
      "Processing Record 469: nabire\n",
      "Processing Record 470: yabassi\n",
      "Processing Record 471: kiruna\n",
      "Processing Record 472: calolziocorte\n",
      "Processing Record 473: borogontsy\n",
      "Processing Record 474: beringovskiy\n",
      "Processing Record 475: stromness\n",
      "Processing Record 476: yarim\n",
      "Processing Record 477: riachao do jacuipe\n",
      "Processing Record 478: plouzane\n",
      "Processing Record 479: acapulco\n",
      "City not found. Skipping...\n",
      "Processing Record 480: caernarfon\n",
      "Processing Record 481: marinette\n",
      "Processing Record 482: nikolayevsk-na-amure\n",
      "Processing Record 483: pacific grove\n",
      "Processing Record 484: pathein\n",
      "Processing Record 485: hofn\n",
      "Processing Record 486: homer\n",
      "Processing Record 487: catamarca\n",
      "Processing Record 488: ulaangom\n",
      "Processing Record 489: jiwani\n",
      "Processing Record 490: saldanha\n",
      "Processing Record 491: ladybrand\n",
      "City not found. Skipping...\n",
      "Processing Record 492: boyuibe\n",
      "Processing Record 493: awjilah\n",
      "Processing Record 494: omsukchan\n",
      "Processing Record 495: bilibino\n",
      "Processing Record 496: nuristan\n",
      "Processing Record 497: peniche\n",
      "Processing Record 498: comodoro rivadavia\n",
      "Processing Record 499: vanimo\n",
      "Processing Record 500: kuminskiy\n",
      "Processing Record 501: aykino\n",
      "Processing Record 502: kiama\n",
      "Processing Record 503: zwedru\n",
      "City not found. Skipping...\n",
      "Processing Record 504: conceicao da barra\n",
      "Processing Record 505: verkhnyaya khava\n",
      "Processing Record 506: concordia\n",
      "Processing Record 507: thisted\n",
      "Processing Record 508: la rioja\n",
      "Processing Record 509: longyan\n",
      "Processing Record 510: nanortalik\n",
      "City not found. Skipping...\n",
      "City not found. Skipping...\n",
      "Processing Record 511: marienburg\n",
      "Processing Record 512: hami\n",
      "Processing Record 513: roald\n",
      "Processing Record 514: kasama\n",
      "Processing Record 515: nador\n",
      "Processing Record 516: lianzhou\n",
      "Processing Record 517: tambacounda\n",
      "Processing Record 518: tveit\n",
      "Processing Record 519: zyryanka\n",
      "Processing Record 520: altay\n",
      "Processing Record 521: biak\n",
      "Processing Record 522: bantry\n",
      "City not found. Skipping...\n",
      "Processing Record 523: vesele\n",
      "Processing Record 524: kabanjahe\n",
      "Processing Record 525: susangerd\n",
      "Processing Record 526: korla\n",
      "Processing Record 527: carstairs\n",
      "Processing Record 528: aichach\n",
      "Processing Record 529: sale\n",
      "City not found. Skipping...\n",
      "City not found. Skipping...\n",
      "Processing Record 530: warwick\n",
      "Processing Record 531: ukholovo\n",
      "Processing Record 532: terrace bay\n",
      "Processing Record 533: agua verde\n",
      "Processing Record 534: ilheus\n",
      "Processing Record 535: kilindoni\n",
      "City not found. Skipping...\n",
      "Processing Record 536: linhares\n",
      "Processing Record 537: tautira\n",
      "Processing Record 538: ewa beach\n",
      "Processing Record 539: chabahar\n",
      "Processing Record 540: lixourion\n",
      "Processing Record 541: deer lake\n",
      "Processing Record 542: fairhope\n",
      "Processing Record 543: serebryansk\n",
      "Processing Record 544: dudinka\n",
      "Processing Record 545: yeniseysk\n",
      "City not found. Skipping...\n",
      "Processing Record 546: tromso\n",
      "Processing Record 547: telixtac\n",
      "City not found. Skipping...\n",
      "Processing Record 548: escarcega\n",
      "Processing Record 549: makat\n",
      "Processing Record 550: brae\n",
      "Processing Record 551: kamphaeng phet\n",
      "Processing Record 552: chernyshevskiy\n",
      "Processing Record 553: sao joao da barra\n",
      "Processing Record 554: high level\n",
      "Processing Record 555: santiago de chuco\n",
      "Processing Record 556: storslett\n",
      "Processing Record 557: almaznyy\n",
      "-----------------------------\n",
      "Data Retrieval Complete\n",
      "-----------------------------\n"
     ]
    }
   ],
   "source": [
    "print(f\"Beginning Data Retrieval\")\n",
    "print(f\"-----------------------------\")\n",
    "\n",
    "city_name=[]\n",
    "lat=[]\n",
    "lng=[]\n",
    "max_temp=[]\n",
    "humidity=[]\n",
    "cloudiness=[]\n",
    "wind_speed=[]\n",
    "country=[]\n",
    "date=[]\n",
    "\n",
    "num = 1\n",
    "\n",
    "for city in cities:\n",
    "    try:\n",
    "        query_url = query + city\n",
    "        response = requests.get(query_url).json()\n",
    "        city_name.append(response[\"name\"])\n",
    "        lat.append(response[\"coord\"][\"lat\"])\n",
    "        lng.append(response[\"coord\"][\"lon\"])\n",
    "        max_temp.append(response[\"main\"][\"temp_max\"])\n",
    "        humidity.append(response[\"main\"][\"humidity\"])\n",
    "        cloudiness.append(response[\"clouds\"][\"all\"])\n",
    "        wind_speed.append(response[\"wind\"][\"speed\"])\n",
    "        country.append(response[\"sys\"][\"country\"])\n",
    "        date.append(response[\"dt\"])\n",
    "        print(f\"Processing Record {num}: {city}\")\n",
    "        num += 1\n",
    "    except:\n",
    "        print(\"City not found. Skipping...\")\n",
    "        \n",
    "print(\"-----------------------------\")\n",
    "print(\"Data Retrieval Complete\")\n",
    "print(\"-----------------------------\")\n"
   ]
  },
  {
   "cell_type": "markdown",
   "metadata": {},
   "source": [
    "### Convert Raw Data to DataFrame\n",
    "* Export the city data into a .csv.\n",
    "* Display the DataFrame"
   ]
  },
  {
   "cell_type": "code",
   "execution_count": 6,
   "metadata": {},
   "outputs": [],
   "source": [
    "weather_dict = {\n",
    "    \"City\":city_name,\n",
    "    \"Lat\":lat,\n",
    "    \"Lng\":lng,\n",
    "    \"Max Temp\":max_temp,\n",
    "    \"Humidity\":humidity,\n",
    "    \"Cloudiness\":cloudiness,\n",
    "    \"Wind Speed\":wind_speed,\n",
    "    \"Country\":country,\n",
    "    \"Date\":date\n",
    "}\n",
    "weather_data = pd.DataFrame(weather_dict)  "
   ]
  },
  {
   "cell_type": "code",
   "execution_count": 7,
   "metadata": {},
   "outputs": [
    {
     "data": {
      "text/plain": [
       "City          557\n",
       "Lat           557\n",
       "Lng           557\n",
       "Max Temp      557\n",
       "Humidity      557\n",
       "Cloudiness    557\n",
       "Wind Speed    557\n",
       "Country       557\n",
       "Date          557\n",
       "dtype: int64"
      ]
     },
     "execution_count": 7,
     "metadata": {},
     "output_type": "execute_result"
    }
   ],
   "source": [
    "weather_data.count()"
   ]
  },
  {
   "cell_type": "code",
   "execution_count": 8,
   "metadata": {},
   "outputs": [
    {
     "data": {
      "text/html": [
       "<div>\n",
       "<style scoped>\n",
       "    .dataframe tbody tr th:only-of-type {\n",
       "        vertical-align: middle;\n",
       "    }\n",
       "\n",
       "    .dataframe tbody tr th {\n",
       "        vertical-align: top;\n",
       "    }\n",
       "\n",
       "    .dataframe thead th {\n",
       "        text-align: right;\n",
       "    }\n",
       "</style>\n",
       "<table border=\"1\" class=\"dataframe\">\n",
       "  <thead>\n",
       "    <tr style=\"text-align: right;\">\n",
       "      <th></th>\n",
       "      <th>City</th>\n",
       "      <th>Lat</th>\n",
       "      <th>Lng</th>\n",
       "      <th>Max Temp</th>\n",
       "      <th>Humidity</th>\n",
       "      <th>Cloudiness</th>\n",
       "      <th>Wind Speed</th>\n",
       "      <th>Country</th>\n",
       "      <th>Date</th>\n",
       "    </tr>\n",
       "  </thead>\n",
       "  <tbody>\n",
       "    <tr>\n",
       "      <th>0</th>\n",
       "      <td>Atuona</td>\n",
       "      <td>-9.80</td>\n",
       "      <td>-139.03</td>\n",
       "      <td>77.95</td>\n",
       "      <td>73</td>\n",
       "      <td>26</td>\n",
       "      <td>22.37</td>\n",
       "      <td>PF</td>\n",
       "      <td>1600881410</td>\n",
       "    </tr>\n",
       "    <tr>\n",
       "      <th>1</th>\n",
       "      <td>Puerto Ayora</td>\n",
       "      <td>-0.74</td>\n",
       "      <td>-90.35</td>\n",
       "      <td>71.01</td>\n",
       "      <td>83</td>\n",
       "      <td>93</td>\n",
       "      <td>7.00</td>\n",
       "      <td>EC</td>\n",
       "      <td>1600881411</td>\n",
       "    </tr>\n",
       "    <tr>\n",
       "      <th>2</th>\n",
       "      <td>Dingle</td>\n",
       "      <td>11.00</td>\n",
       "      <td>122.67</td>\n",
       "      <td>76.06</td>\n",
       "      <td>88</td>\n",
       "      <td>60</td>\n",
       "      <td>1.36</td>\n",
       "      <td>PH</td>\n",
       "      <td>1600881411</td>\n",
       "    </tr>\n",
       "    <tr>\n",
       "      <th>3</th>\n",
       "      <td>East London</td>\n",
       "      <td>-33.02</td>\n",
       "      <td>27.91</td>\n",
       "      <td>64.40</td>\n",
       "      <td>77</td>\n",
       "      <td>5</td>\n",
       "      <td>4.70</td>\n",
       "      <td>ZA</td>\n",
       "      <td>1600881412</td>\n",
       "    </tr>\n",
       "    <tr>\n",
       "      <th>4</th>\n",
       "      <td>Ponta do Sol</td>\n",
       "      <td>32.67</td>\n",
       "      <td>-17.10</td>\n",
       "      <td>78.80</td>\n",
       "      <td>61</td>\n",
       "      <td>40</td>\n",
       "      <td>11.41</td>\n",
       "      <td>PT</td>\n",
       "      <td>1600881412</td>\n",
       "    </tr>\n",
       "  </tbody>\n",
       "</table>\n",
       "</div>"
      ],
      "text/plain": [
       "           City    Lat     Lng  Max Temp  Humidity  Cloudiness  Wind Speed  \\\n",
       "0        Atuona  -9.80 -139.03     77.95        73          26       22.37   \n",
       "1  Puerto Ayora  -0.74  -90.35     71.01        83          93        7.00   \n",
       "2        Dingle  11.00  122.67     76.06        88          60        1.36   \n",
       "3   East London -33.02   27.91     64.40        77           5        4.70   \n",
       "4  Ponta do Sol  32.67  -17.10     78.80        61          40       11.41   \n",
       "\n",
       "  Country        Date  \n",
       "0      PF  1600881410  \n",
       "1      EC  1600881411  \n",
       "2      PH  1600881411  \n",
       "3      ZA  1600881412  \n",
       "4      PT  1600881412  "
      ]
     },
     "execution_count": 8,
     "metadata": {},
     "output_type": "execute_result"
    }
   ],
   "source": [
    "#Display the DataFrame\n",
    "weather_data.head()"
   ]
  },
  {
   "cell_type": "code",
   "execution_count": 9,
   "metadata": {},
   "outputs": [],
   "source": [
    "#Export the city data into a .csv.\n",
    "weather_data.to_csv(\"weather.csv\", index = False)"
   ]
  },
  {
   "cell_type": "markdown",
   "metadata": {},
   "source": [
    "## Inspect the data and remove the cities where the humidity > 100%.\n",
    "----\n",
    "Skip this step if there are no cities that have humidity > 100%. "
   ]
  },
  {
   "cell_type": "code",
   "execution_count": 10,
   "metadata": {},
   "outputs": [
    {
     "data": {
      "text/html": [
       "<div>\n",
       "<style scoped>\n",
       "    .dataframe tbody tr th:only-of-type {\n",
       "        vertical-align: middle;\n",
       "    }\n",
       "\n",
       "    .dataframe tbody tr th {\n",
       "        vertical-align: top;\n",
       "    }\n",
       "\n",
       "    .dataframe thead th {\n",
       "        text-align: right;\n",
       "    }\n",
       "</style>\n",
       "<table border=\"1\" class=\"dataframe\">\n",
       "  <thead>\n",
       "    <tr style=\"text-align: right;\">\n",
       "      <th></th>\n",
       "      <th>Lat</th>\n",
       "      <th>Lng</th>\n",
       "      <th>Max Temp</th>\n",
       "      <th>Humidity</th>\n",
       "      <th>Cloudiness</th>\n",
       "      <th>Wind Speed</th>\n",
       "      <th>Date</th>\n",
       "    </tr>\n",
       "  </thead>\n",
       "  <tbody>\n",
       "    <tr>\n",
       "      <th>count</th>\n",
       "      <td>557.000000</td>\n",
       "      <td>557.000000</td>\n",
       "      <td>557.000000</td>\n",
       "      <td>557.000000</td>\n",
       "      <td>557.000000</td>\n",
       "      <td>557.000000</td>\n",
       "      <td>5.570000e+02</td>\n",
       "    </tr>\n",
       "    <tr>\n",
       "      <th>mean</th>\n",
       "      <td>23.318671</td>\n",
       "      <td>19.030305</td>\n",
       "      <td>65.413573</td>\n",
       "      <td>68.901257</td>\n",
       "      <td>47.845601</td>\n",
       "      <td>7.716804</td>\n",
       "      <td>1.600882e+09</td>\n",
       "    </tr>\n",
       "    <tr>\n",
       "      <th>std</th>\n",
       "      <td>33.537337</td>\n",
       "      <td>91.960458</td>\n",
       "      <td>16.857928</td>\n",
       "      <td>21.269070</td>\n",
       "      <td>37.161584</td>\n",
       "      <td>5.599794</td>\n",
       "      <td>1.189779e+02</td>\n",
       "    </tr>\n",
       "    <tr>\n",
       "      <th>min</th>\n",
       "      <td>-54.800000</td>\n",
       "      <td>-175.200000</td>\n",
       "      <td>16.200000</td>\n",
       "      <td>10.000000</td>\n",
       "      <td>0.000000</td>\n",
       "      <td>0.360000</td>\n",
       "      <td>1.600881e+09</td>\n",
       "    </tr>\n",
       "    <tr>\n",
       "      <th>25%</th>\n",
       "      <td>-5.200000</td>\n",
       "      <td>-59.530000</td>\n",
       "      <td>51.800000</td>\n",
       "      <td>58.000000</td>\n",
       "      <td>11.000000</td>\n",
       "      <td>4.000000</td>\n",
       "      <td>1.600881e+09</td>\n",
       "    </tr>\n",
       "    <tr>\n",
       "      <th>50%</th>\n",
       "      <td>31.610000</td>\n",
       "      <td>21.380000</td>\n",
       "      <td>68.000000</td>\n",
       "      <td>74.000000</td>\n",
       "      <td>40.000000</td>\n",
       "      <td>6.710000</td>\n",
       "      <td>1.600882e+09</td>\n",
       "    </tr>\n",
       "    <tr>\n",
       "      <th>75%</th>\n",
       "      <td>51.290000</td>\n",
       "      <td>103.440000</td>\n",
       "      <td>78.300000</td>\n",
       "      <td>85.000000</td>\n",
       "      <td>86.000000</td>\n",
       "      <td>10.290000</td>\n",
       "      <td>1.600882e+09</td>\n",
       "    </tr>\n",
       "    <tr>\n",
       "      <th>max</th>\n",
       "      <td>78.220000</td>\n",
       "      <td>179.320000</td>\n",
       "      <td>105.190000</td>\n",
       "      <td>100.000000</td>\n",
       "      <td>100.000000</td>\n",
       "      <td>46.080000</td>\n",
       "      <td>1.600882e+09</td>\n",
       "    </tr>\n",
       "  </tbody>\n",
       "</table>\n",
       "</div>"
      ],
      "text/plain": [
       "              Lat         Lng    Max Temp    Humidity  Cloudiness  Wind Speed  \\\n",
       "count  557.000000  557.000000  557.000000  557.000000  557.000000  557.000000   \n",
       "mean    23.318671   19.030305   65.413573   68.901257   47.845601    7.716804   \n",
       "std     33.537337   91.960458   16.857928   21.269070   37.161584    5.599794   \n",
       "min    -54.800000 -175.200000   16.200000   10.000000    0.000000    0.360000   \n",
       "25%     -5.200000  -59.530000   51.800000   58.000000   11.000000    4.000000   \n",
       "50%     31.610000   21.380000   68.000000   74.000000   40.000000    6.710000   \n",
       "75%     51.290000  103.440000   78.300000   85.000000   86.000000   10.290000   \n",
       "max     78.220000  179.320000  105.190000  100.000000  100.000000   46.080000   \n",
       "\n",
       "               Date  \n",
       "count  5.570000e+02  \n",
       "mean   1.600882e+09  \n",
       "std    1.189779e+02  \n",
       "min    1.600881e+09  \n",
       "25%    1.600881e+09  \n",
       "50%    1.600882e+09  \n",
       "75%    1.600882e+09  \n",
       "max    1.600882e+09  "
      ]
     },
     "execution_count": 10,
     "metadata": {},
     "output_type": "execute_result"
    }
   ],
   "source": [
    "weather_data.describe()"
   ]
  },
  {
   "cell_type": "code",
   "execution_count": 11,
   "metadata": {},
   "outputs": [
    {
     "data": {
      "text/html": [
       "<div>\n",
       "<style scoped>\n",
       "    .dataframe tbody tr th:only-of-type {\n",
       "        vertical-align: middle;\n",
       "    }\n",
       "\n",
       "    .dataframe tbody tr th {\n",
       "        vertical-align: top;\n",
       "    }\n",
       "\n",
       "    .dataframe thead th {\n",
       "        text-align: right;\n",
       "    }\n",
       "</style>\n",
       "<table border=\"1\" class=\"dataframe\">\n",
       "  <thead>\n",
       "    <tr style=\"text-align: right;\">\n",
       "      <th></th>\n",
       "      <th>City</th>\n",
       "      <th>Lat</th>\n",
       "      <th>Lng</th>\n",
       "      <th>Max Temp</th>\n",
       "      <th>Humidity</th>\n",
       "      <th>Cloudiness</th>\n",
       "      <th>Wind Speed</th>\n",
       "      <th>Country</th>\n",
       "      <th>Date</th>\n",
       "    </tr>\n",
       "  </thead>\n",
       "  <tbody>\n",
       "  </tbody>\n",
       "</table>\n",
       "</div>"
      ],
      "text/plain": [
       "Empty DataFrame\n",
       "Columns: [City, Lat, Lng, Max Temp, Humidity, Cloudiness, Wind Speed, Country, Date]\n",
       "Index: []"
      ]
     },
     "execution_count": 11,
     "metadata": {},
     "output_type": "execute_result"
    }
   ],
   "source": [
    "outliers = weather_data[weather_data.Humidity > 100]\n",
    "outliers\n",
    "#no cities that have humidity > 100%"
   ]
  },
  {
   "cell_type": "code",
   "execution_count": 12,
   "metadata": {},
   "outputs": [
    {
     "data": {
      "text/html": [
       "<div>\n",
       "<style scoped>\n",
       "    .dataframe tbody tr th:only-of-type {\n",
       "        vertical-align: middle;\n",
       "    }\n",
       "\n",
       "    .dataframe tbody tr th {\n",
       "        vertical-align: top;\n",
       "    }\n",
       "\n",
       "    .dataframe thead th {\n",
       "        text-align: right;\n",
       "    }\n",
       "</style>\n",
       "<table border=\"1\" class=\"dataframe\">\n",
       "  <thead>\n",
       "    <tr style=\"text-align: right;\">\n",
       "      <th></th>\n",
       "      <th>City</th>\n",
       "      <th>Lat</th>\n",
       "      <th>Lng</th>\n",
       "      <th>Max Temp</th>\n",
       "      <th>Humidity</th>\n",
       "      <th>Cloudiness</th>\n",
       "      <th>Wind Speed</th>\n",
       "      <th>Country</th>\n",
       "      <th>Date</th>\n",
       "    </tr>\n",
       "  </thead>\n",
       "  <tbody>\n",
       "    <tr>\n",
       "      <th>0</th>\n",
       "      <td>Atuona</td>\n",
       "      <td>-9.80</td>\n",
       "      <td>-139.03</td>\n",
       "      <td>77.95</td>\n",
       "      <td>73</td>\n",
       "      <td>26</td>\n",
       "      <td>22.37</td>\n",
       "      <td>PF</td>\n",
       "      <td>1600881410</td>\n",
       "    </tr>\n",
       "    <tr>\n",
       "      <th>1</th>\n",
       "      <td>Puerto Ayora</td>\n",
       "      <td>-0.74</td>\n",
       "      <td>-90.35</td>\n",
       "      <td>71.01</td>\n",
       "      <td>83</td>\n",
       "      <td>93</td>\n",
       "      <td>7.00</td>\n",
       "      <td>EC</td>\n",
       "      <td>1600881411</td>\n",
       "    </tr>\n",
       "    <tr>\n",
       "      <th>2</th>\n",
       "      <td>Dingle</td>\n",
       "      <td>11.00</td>\n",
       "      <td>122.67</td>\n",
       "      <td>76.06</td>\n",
       "      <td>88</td>\n",
       "      <td>60</td>\n",
       "      <td>1.36</td>\n",
       "      <td>PH</td>\n",
       "      <td>1600881411</td>\n",
       "    </tr>\n",
       "    <tr>\n",
       "      <th>3</th>\n",
       "      <td>East London</td>\n",
       "      <td>-33.02</td>\n",
       "      <td>27.91</td>\n",
       "      <td>64.40</td>\n",
       "      <td>77</td>\n",
       "      <td>5</td>\n",
       "      <td>4.70</td>\n",
       "      <td>ZA</td>\n",
       "      <td>1600881412</td>\n",
       "    </tr>\n",
       "    <tr>\n",
       "      <th>4</th>\n",
       "      <td>Ponta do Sol</td>\n",
       "      <td>32.67</td>\n",
       "      <td>-17.10</td>\n",
       "      <td>78.80</td>\n",
       "      <td>61</td>\n",
       "      <td>40</td>\n",
       "      <td>11.41</td>\n",
       "      <td>PT</td>\n",
       "      <td>1600881412</td>\n",
       "    </tr>\n",
       "  </tbody>\n",
       "</table>\n",
       "</div>"
      ],
      "text/plain": [
       "           City    Lat     Lng  Max Temp  Humidity  Cloudiness  Wind Speed  \\\n",
       "0        Atuona  -9.80 -139.03     77.95        73          26       22.37   \n",
       "1  Puerto Ayora  -0.74  -90.35     71.01        83          93        7.00   \n",
       "2        Dingle  11.00  122.67     76.06        88          60        1.36   \n",
       "3   East London -33.02   27.91     64.40        77           5        4.70   \n",
       "4  Ponta do Sol  32.67  -17.10     78.80        61          40       11.41   \n",
       "\n",
       "  Country        Date  \n",
       "0      PF  1600881410  \n",
       "1      EC  1600881411  \n",
       "2      PH  1600881411  \n",
       "3      ZA  1600881412  \n",
       "4      PT  1600881412  "
      ]
     },
     "execution_count": 12,
     "metadata": {},
     "output_type": "execute_result"
    }
   ],
   "source": [
    "clean_city_data = weather_data[weather_data.Humidity <= 100]\n",
    "clean_city_data.head()"
   ]
  },
  {
   "cell_type": "code",
   "execution_count": 13,
   "metadata": {},
   "outputs": [],
   "source": [
    "clean_city_data.to_csv(\"Clean_City.csv\")"
   ]
  },
  {
   "cell_type": "markdown",
   "metadata": {},
   "source": [
    "## Plotting the Data\n",
    "* Use proper labeling of the plots using plot titles (including date of analysis) and axes labels.\n",
    "* Save the plotted figures as .pngs."
   ]
  },
  {
   "cell_type": "markdown",
   "metadata": {},
   "source": [
    "## Latitude vs. Temperature Plot"
   ]
  },
  {
   "cell_type": "code",
   "execution_count": 14,
   "metadata": {},
   "outputs": [
    {
     "data": {
      "image/png": "[encoded data removed]",
      "text/plain": [
       "<Figure size 432x288 with 1 Axes>"
      ]
     },
     "metadata": {
      "needs_background": "light"
     },
     "output_type": "display_data"
    }
   ],
   "source": [
    "plt.scatter(clean_city_data[\"Lat\"], clean_city_data[\"Max Temp\"], marker=\"o\", edgecolor=\"black\")\n",
    "plt.grid(True)\n",
    "plt.title(\"City Latitude vs. Max Temperature (09/20/2020)\")\n",
    "plt.ylabel(\"Max Temperature (F)\")\n",
    "plt.xlabel(\"Latitude\")\n",
    "\n",
    "plt.savefig(\"Latitude_vs_Temperature\")\n",
    "\n",
    "plt.show()"
   ]
  },
  {
   "cell_type": "markdown",
   "metadata": {},
   "source": [
    "## Latitude vs. Humidity Plot"
   ]
  },
  {
   "cell_type": "code",
   "execution_count": 15,
   "metadata": {},
   "outputs": [
    {
     "data": {
      "image/png": "[encoded data removed]",
      "text/plain": [
       "<Figure size 432x288 with 1 Axes>"
      ]
     },
     "metadata": {
      "needs_background": "light"
     },
     "output_type": "display_data"
    }
   ],
   "source": [
    "plt.scatter(clean_city_data[\"Lat\"], clean_city_data[\"Humidity\"], marker=\"o\", edgecolor=\"black\")\n",
    "plt.grid(True)\n",
    "plt.title(\"City Latitude vs. Humidity (09/20/2020)\")\n",
    "plt.ylabel(\"Humidity (%)\")\n",
    "plt.xlabel(\"Latitude\")\n",
    "\n",
    "plt.savefig(\"Latitude_vs_Humidity\")\n",
    "\n",
    "plt.show()"
   ]
  },
  {
   "cell_type": "markdown",
   "metadata": {},
   "source": [
    "## Latitude vs. Cloudiness Plot"
   ]
  },
  {
   "cell_type": "code",
   "execution_count": 16,
   "metadata": {},
   "outputs": [
    {
     "data": {
      "image/png": "[encoded data removed]",
      "text/plain": [
       "<Figure size 432x288 with 1 Axes>"
      ]
     },
     "metadata": {
      "needs_background": "light"
     },
     "output_type": "display_data"
    }
   ],
   "source": [
    "plt.scatter(clean_city_data[\"Lat\"], clean_city_data[\"Cloudiness\"], marker=\"o\", edgecolor=\"black\")\n",
    "plt.grid(True)\n",
    "plt.title(\"City Latitude vs. Cloudiness (09/20/2020)\")\n",
    "plt.ylabel(\"Cloudiness (%)\")\n",
    "plt.xlabel(\"Latitude\")\n",
    "\n",
    "plt.savefig(\"Latitude_vs_Cloudiness\")\n",
    "\n",
    "plt.show()"
   ]
  },
  {
   "cell_type": "markdown",
   "metadata": {},
   "source": [
    "## Latitude vs. Wind Speed Plot"
   ]
  },
  {
   "cell_type": "code",
   "execution_count": 17,
   "metadata": {},
   "outputs": [
    {
     "data": {
      "image/png": "[encoded data removed]",
      "text/plain": [
       "<Figure size 432x288 with 1 Axes>"
      ]
     },
     "metadata": {
      "needs_background": "light"
     },
     "output_type": "display_data"
    }
   ],
   "source": [
    "plt.scatter(clean_city_data[\"Lat\"], clean_city_data[\"Wind Speed\"], marker=\"o\", edgecolor=\"black\")\n",
    "plt.grid(True)\n",
    "plt.title(\"City Latitude vs. Wind Speed (09/20/2020)\")\n",
    "plt.ylabel(\"Wind Speed (mph)\")\n",
    "plt.xlabel(\"Latitude\")\n",
    "\n",
    "plt.savefig(\"Latitude_vs_Wind_Speed\")\n",
    "\n",
    "plt.show()"
   ]
  },
  {
   "cell_type": "markdown",
   "metadata": {},
   "source": [
    "## Linear Regression"
   ]
  },
  {
   "cell_type": "code",
   "execution_count": 18,
   "metadata": {},
   "outputs": [],
   "source": [
    "# Create Northern and Southern Hemisphere DataFrames\n",
    "north_hem = clean_city_data.loc[clean_city_data[\"Lat\"] >= 0]\n",
    "south_hem = clean_city_data.loc[clean_city_data[\"Lat\"] < 0]"
   ]
  },
  {
   "cell_type": "markdown",
   "metadata": {},
   "source": [
    "####  Northern Hemisphere - Max Temp vs. Latitude Linear Regression"
   ]
  },
  {
   "cell_type": "code",
   "execution_count": 19,
   "metadata": {},
   "outputs": [],
   "source": [
    "#OPTIONAL: Create a function to create Linear Regression plots\n",
    "def linear_regression(x_values, y_values):\n",
    "    (slope, intercept, rvalue, pvalue, stderr) = linregress(x_values, y_values)\n",
    "    regress_values = x_values * slope + intercept\n",
    "    line_eq = \"y = \" + str(round(slope,2)) + \"x + \" + str(round(intercept,2))\n",
    "    plt.scatter(x_values,y_values)\n",
    "    plt.plot(x_values,regress_values,\"r-\")\n",
    "    plt.annotate(line_eq,xy=(0.2, 0.9), xycoords='axes fraction', fontsize=15, color=\"red\")\n",
    "    print(f\"The r-square is: {round(rvalue**2,2)}\")"
   ]
  },
  {
   "cell_type": "code",
   "execution_count": 20,
   "metadata": {},
   "outputs": [
    {
     "name": "stdout",
     "output_type": "stream",
     "text": [
      "The r-square is: 0.69\n"
     ]
    },
    {
     "data": {
      "image/png": "[encoded data removed]",
      "text/plain": [
       "<Figure size 432x288 with 1 Axes>"
      ]
     },
     "metadata": {
      "needs_background": "light"
     },
     "output_type": "display_data"
    }
   ],
   "source": [
    "linear_regression(north_hem[\"Lat\"], north_hem[\"Max Temp\"])\n",
    "plt.xlabel(\"Latitude\")\n",
    "plt.ylabel(\"Max Temp\")\n",
    "\n",
    "plt.savefig(\"latitude_temp_north\")\n",
    "plt.show()"
   ]
  },
  {
   "cell_type": "markdown",
   "metadata": {},
   "source": [
    "####  Southern Hemisphere - Max Temp vs. Latitude Linear Regression"
   ]
  },
  {
   "cell_type": "code",
   "execution_count": 21,
   "metadata": {},
   "outputs": [
    {
     "name": "stdout",
     "output_type": "stream",
     "text": [
      "The r-square is: 0.5\n"
     ]
    },
    {
     "data": {
      "image/png": "[encoded data removed]",
      "text/plain": [
       "<Figure size 432x288 with 1 Axes>"
      ]
     },
     "metadata": {
      "needs_background": "light"
     },
     "output_type": "display_data"
    }
   ],
   "source": [
    "linear_regression(south_hem[\"Lat\"], south_hem[\"Max Temp\"])\n",
    "plt.xlabel(\"Latitude\")\n",
    "plt.ylabel(\"Max Temp\")\n",
    "\n",
    "plt.savefig(\"latitude_temp_south\")\n",
    "plt.show()"
   ]
  },
  {
   "cell_type": "markdown",
   "metadata": {},
   "source": [
    "####  Northern Hemisphere - Humidity (%) vs. Latitude Linear Regression"
   ]
  },
  {
   "cell_type": "code",
   "execution_count": 22,
   "metadata": {},
   "outputs": [
    {
     "name": "stdout",
     "output_type": "stream",
     "text": [
      "The r-square is: 0.03\n"
     ]
    },
    {
     "data": {
      "image/png": "[encoded data removed]",
      "text/plain": [
       "<Figure size 432x288 with 1 Axes>"
      ]
     },
     "metadata": {
      "needs_background": "light"
     },
     "output_type": "display_data"
    }
   ],
   "source": [
    "linear_regression(north_hem[\"Lat\"], north_hem[\"Humidity\"])\n",
    "plt.xlabel(\"Latitude\")\n",
    "plt.ylabel(\"Humidity\")\n",
    "\n",
    "plt.savefig(\"latitude_humidity_north\")\n",
    "plt.show()"
   ]
  },
  {
   "cell_type": "markdown",
   "metadata": {},
   "source": [
    "####  Southern Hemisphere - Humidity (%) vs. Latitude Linear Regression"
   ]
  },
  {
   "cell_type": "code",
   "execution_count": 23,
   "metadata": {},
   "outputs": [
    {
     "name": "stdout",
     "output_type": "stream",
     "text": [
      "The r-square is: 0.0\n"
     ]
    },
    {
     "data": {
      "image/png": "[encoded data removed]",
      "text/plain": [
       "<Figure size 432x288 with 1 Axes>"
      ]
     },
     "metadata": {
      "needs_background": "light"
     },
     "output_type": "display_data"
    }
   ],
   "source": [
    "linear_regression(south_hem[\"Lat\"], south_hem[\"Humidity\"])\n",
    "plt.xlabel(\"Latitude\")\n",
    "plt.ylabel(\"Humidity\")\n",
    "\n",
    "plt.savefig(\"latitude_humidity_south\")\n",
    "plt.show()"
   ]
  },
  {
   "cell_type": "markdown",
   "metadata": {},
   "source": [
    "####  Northern Hemisphere - Cloudiness (%) vs. Latitude Linear Regression"
   ]
  },
  {
   "cell_type": "code",
   "execution_count": 24,
   "metadata": {},
   "outputs": [
    {
     "name": "stdout",
     "output_type": "stream",
     "text": [
      "The r-square is: 0.0\n"
     ]
    },
    {
     "data": {
      "image/png": "[encoded data removed]",
      "text/plain": [
       "<Figure size 432x288 with 1 Axes>"
      ]
     },
     "metadata": {
      "needs_background": "light"
     },
     "output_type": "display_data"
    }
   ],
   "source": [
    "linear_regression(north_hem[\"Lat\"], north_hem[\"Cloudiness\"])\n",
    "plt.xlabel(\"Latitude\")\n",
    "plt.ylabel(\"Cloudiness\")\n",
    "\n",
    "plt.savefig(\"latitude_cloudiness_north\")\n",
    "plt.show()"
   ]
  },
  {
   "cell_type": "markdown",
   "metadata": {},
   "source": [
    "####  Southern Hemisphere - Cloudiness (%) vs. Latitude Linear Regression"
   ]
  },
  {
   "cell_type": "code",
   "execution_count": 25,
   "metadata": {},
   "outputs": [
    {
     "name": "stdout",
     "output_type": "stream",
     "text": [
      "The r-square is: 0.02\n"
     ]
    },
    {
     "data": {
      "image/png": "[encoded data removed]",
      "text/plain": [
       "<Figure size 432x288 with 1 Axes>"
      ]
     },
     "metadata": {
      "needs_background": "light"
     },
     "output_type": "display_data"
    }
   ],
   "source": [
    "linear_regression(south_hem[\"Lat\"], south_hem[\"Cloudiness\"])\n",
    "plt.xlabel(\"Latitude\")\n",
    "plt.ylabel(\"Cloudiness\")\n",
    "\n",
    "plt.savefig(\"latitude_cloudiness_south\")\n",
    "plt.show()"
   ]
  },
  {
   "cell_type": "markdown",
   "metadata": {},
   "source": [
    "####  Northern Hemisphere - Wind Speed (mph) vs. Latitude Linear Regression"
   ]
  },
  {
   "cell_type": "code",
   "execution_count": 26,
   "metadata": {},
   "outputs": [
    {
     "name": "stdout",
     "output_type": "stream",
     "text": [
      "The r-square is: 0.01\n"
     ]
    },
    {
     "data": {
      "image/png": "[encoded data removed]",
      "text/plain": [
       "<Figure size 432x288 with 1 Axes>"
      ]
     },
     "metadata": {
      "needs_background": "light"
     },
     "output_type": "display_data"
    }
   ],
   "source": [
    "linear_regression(north_hem[\"Lat\"], north_hem[\"Wind Speed\"])\n",
    "plt.xlabel(\"Latitude\")\n",
    "plt.ylabel(\"Wind Speed\")\n",
    "\n",
    "plt.savefig(\"latitude_wind_north\")\n",
    "plt.show()"
   ]
  },
  {
   "cell_type": "markdown",
   "metadata": {},
   "source": [
    "####  Southern Hemisphere - Wind Speed (mph) vs. Latitude Linear Regression"
   ]
  },
  {
   "cell_type": "code",
   "execution_count": 27,
   "metadata": {},
   "outputs": [
    {
     "name": "stdout",
     "output_type": "stream",
     "text": [
      "The r-square is: 0.01\n"
     ]
    },
    {
     "data": {
      "image/png": "[encoded data removed]",
      "text/plain": [
       "<Figure size 432x288 with 1 Axes>"
      ]
     },
     "metadata": {
      "needs_background": "light"
     },
     "output_type": "display_data"
    }
   ],
   "source": [
    "linear_regression(south_hem[\"Lat\"], south_hem[\"Wind Speed\"])\n",
    "plt.xlabel(\"Latitude\")\n",
    "plt.ylabel(\"Wind Speed\")\n",
    "\n",
    "plt.savefig(\"latitude_wind_south\")\n",
    "plt.show()"
   ]
  },
  {
   "cell_type": "markdown",
   "metadata": {},
   "source": [
    "# Observation"
   ]
  },
  {
   "cell_type": "markdown",
   "metadata": {},
   "source": [
    "* Latitude is correlated with max temperature (as letitude goes further from 0, max temperature decreases).\n",
    "* Latitude is not really correlated with humidity.\n",
    "* Latitude is not really correlated with cloudiness.\n",
    "* Latitude is not really correlated with wind Speed."
   ]
  }
 ],
 "metadata": {
  "anaconda-cloud": {},
  "kernel_info": {
   "name": "python3"
  },
  "kernelspec": {
   "display_name": "Python 3",
   "language": "python",
   "name": "python3"
  },
  "language_info": {
   "codemirror_mode": {
    "name": "ipython",
    "version": 3
   },
   "file_extension": ".py",
   "mimetype": "text/x-python",
   "name": "python",
   "nbconvert_exporter": "python",
   "pygments_lexer": "ipython3",
   "version": "3.7.6"
  },
  "latex_envs": {
   "LaTeX_envs_menu_present": true,
   "autoclose": false,
   "autocomplete": true,
   "bibliofile": "biblio.bib",
   "cite_by": "apalike",
   "current_citInitial": 1,
   "eqLabelWithNumbers": true,
   "eqNumInitial": 1,
   "hotkeys": {
    "equation": "Ctrl-E",
    "itemize": "Ctrl-I"
   },
   "labels_anchors": false,
   "latex_user_defs": false,
   "report_style_numbering": false,
   "user_envs_cfg": false
  },
  "nteract": {
   "version": "0.12.3"
  }
 },
 "nbformat": 4,
 "nbformat_minor": 2
}
